{
 "cells": [
  {
   "cell_type": "markdown",
   "id": "e6b9e330-957e-41cd-a181-80ae594aa2c0",
   "metadata": {},
   "source": [
    "# Изучение, предварительная обработка, подготовка и сохранение данных"
   ]
  },
  {
   "cell_type": "markdown",
   "id": "7d9e0f2e-66d1-486a-8408-846fbbc0c31c",
   "metadata": {},
   "source": [
    "### 1. Загрузка необходимых библиотек, установка рабочей директории."
   ]
  },
  {
   "cell_type": "code",
   "execution_count": 428,
   "id": "b7c65f10-5c1e-44ab-99d2-24a56ad12e16",
   "metadata": {},
   "outputs": [],
   "source": [
    "import os\n",
    "import pandas as pd\n",
    "import numpy as np\n",
    "import matplotlib.pyplot as plt\n",
    "from sklearn.model_selection import train_test_split\n",
    "from sklearn.preprocessing import minmax_scale\n",
    "from sklearn.neighbors import NearestNeighbors\n",
    "os.chdir(r'D:/projects_my/data_test')\n",
    "os.getcwd();"
   ]
  },
  {
   "cell_type": "markdown",
   "id": "0915caae-5b67-4b69-9cfa-b6a1094890c3",
   "metadata": {},
   "source": [
    "### 2. Загрузка данных и отсеивание нерелевантных признаков."
   ]
  },
  {
   "cell_type": "code",
   "execution_count": 429,
   "id": "7060f0b9-6f3f-4436-9e6e-de85335a7ece",
   "metadata": {},
   "outputs": [
    {
     "data": {
      "text/plain": [
       "Index(['tree_id', 'block_id', 'created_at', 'tree_dbh', 'stump_diam',\n",
       "       'curb_loc', 'status', 'health', 'spc_latin', 'spc_common', 'steward',\n",
       "       'guards', 'sidewalk', 'user_type', 'problems', 'root_stone',\n",
       "       'root_grate', 'root_other', 'trunk_wire', 'trnk_light', 'trnk_other',\n",
       "       'brch_light', 'brch_shoe', 'brch_other', 'address', 'postcode',\n",
       "       'zip_city', 'community board', 'borocode', 'borough', 'cncldist',\n",
       "       'st_assem', 'st_senate', 'nta', 'nta_name', 'boro_ct', 'state',\n",
       "       'latitude', 'longitude', 'x_sp', 'y_sp', 'council district',\n",
       "       'census tract', 'bin', 'bbl'],\n",
       "      dtype='object')"
      ]
     },
     "execution_count": 429,
     "metadata": {},
     "output_type": "execute_result"
    }
   ],
   "source": [
    "#загружаем датасет, просматриваем признаки\n",
    "df_raw = pd.read_csv(r\"./2015-street-tree-census-tree-data.csv\",sep=',')\n",
    "df_raw.columns"
   ]
  },
  {
   "cell_type": "markdown",
   "id": "8c37bd13-a448-4211-8452-d7506013ce03",
   "metadata": {},
   "source": [
    "- Описание признаков. (-) - означает удаление столбца, (+) - перенос в новый датасет. Удаляются признаки, когторые уже при первичном просмотре не могут коррелировать с состоянием дерева, например, 'address' - Ближайший предполагаемый адрес к дереву и т. д."
   ]
  },
  {
   "cell_type": "markdown",
   "id": "ff155115-62d6-44f4-b0c3-f4e25cc45f0a",
   "metadata": {},
   "source": [
    "- (-)'tree_id' - Уникальный идентификационный номер для каждого дерева.\n",
    "- (-)'block_id' - Идентификатор, связывающий каждое дерево с блоком в таблице.\n",
    "- (-)'created_at' - Дата переписи.\n",
    "- (+)'tree_dbh' - Диаметр дерева. Данные собирались как для живых, так и для мертвых деревьев; для пней используйте stump_diam\n",
    "- (+)'stump_diam' - Диаметр пня, измеренный через центр, округленный до ближайшего дюйма.\n",
    "- (+)'curb_loc' - Расположение клумбы с деревьями по отношению к бордюру; деревья располагаются либо вдоль бордюра (OnCurb), либо смещены от бордюра (OffsetFromCurb)\n",
    "- (+)'status' - Указывает, является ли дерево живым, мертвым или представляет собой пень.\n",
    "- (+++)'health' - Указывает на состояние дерева.\n",
    "- (-)'spc_latin' - Научное название вида, например, \"Acer rubrum\"\n",
    "- (-)'spc_common' - Общее название видов, например, «красный клен»\n",
    "- (-)'steward' - Указывает количество уникальных признаков, наблюдаемых для этого дерева. Не регистрируется для пней или мертвых деревьев.\n",
    "- (+)'guards' - Указывает, присутствует ли предохранитель, и считает ли пользователь, что он полезен или вреден. Не регистрируется для мертвых деревьев и пней.\n",
    "- (+)'sidewalk' - Указывает, был ли поврежден, треснул или поднят один из тротуарных флагов, непосредственно прилегающих к дереву. Не регистрируется для мертвых деревьев и пней.\n",
    "- (-)'user_type' - В этом поле описывается категория пользователя, собравшего данные этой точки дерева.\n",
    "- (+)'problems' - разные проблемы у дерева\n",
    "- (+)'root_stone' - Указывает на наличие проблем с корнями, вызванных камнями.\n",
    "- (+)'root_grate' - Указывает на наличие проблем с корнями, вызванных металлическими решетками.\n",
    "- (+)'root_other' - Указывает на наличие других корневых проблем\n",
    "- (+)'trunk_wire' - Указывает на наличие проблем, вызванных проводами\n",
    "- (+)'trnk_light' - Указывает на наличие проблем со стволом, вызванных установленным на дереве освещением.\n",
    "- (+)'trnk_other' - Указывает на наличие других проблем\n",
    "- (+)'brch_light' - Указывает на наличие проблем с ветвями, вызванных освещением (обычно гирляндами) или проводами в ветвях.\n",
    "- (+)'brch_shoe' - Указывает на наличие проблемы с веткой, вызванной кроссовками в ветках\n",
    "- (+)'brch_other' - Указывает на наличие других проблем\n",
    "- (-)'address' - Ближайший предполагаемый адрес к дереву\n",
    "- (-)'postcode' - Пятизначный почтовый индекс, в котором находится дерево\n",
    "- (-)'zip_city' - Город, как производное от почтового индекса. Часто (но не всегда) совпадает с городком.\n",
    "- (-)'community board' - Общественный совет, в котором находится точка дерева\n",
    "- (-)'borocode' - Код района, в котором находится Три-Пойнт: 1 (Манхэттен), 2 (Бронкс), 3 (Бруклин), 4 (Квинс), 5 (Стейтен-Айленд)\n",
    "- (-)'borough' - Название района, в котором находится точка выращивания деревьев\n",
    "- (-)'cncldist' - Район совета, в котором находится точка дерева\n",
    "- (-)'st_assem' - Округ законодательного собрания штата, в котором находится точка с деревом\n",
    "- (-)'st_senate' - Округ Сената штата, в котором находится точка дерева\n",
    "- (-)'nta' - Это код NTA, соответствующий району табулирования переписи населения США 2010 года, в который попадает точка дерева.\n",
    "- (-)'nta_name' - Это название NTA, соответствующее районной области табулирования переписи населения США 2010 года, в которую попадает точка дерева.\n",
    "- (-)'boro_ct' - Это идентификатор переписного участка, в который попадает точка дерева\n",
    "- (-)'state' - Всем функциям присвоено значение «Нью-Йорк»\n",
    "- (+)'latitude' - Широта точки, в десятичных градусах \n",
    "- (+)'longitude' - Долгота точки, в десятичных градусах\n",
    "- (+)'x_sp' - Координата X в плоскости состояния. Единицы измерения — футы\n",
    "- (+)'y_sp' - Координата Y, в плоскости состояния. Единицы измерения — футы.\n",
    "- (-)'council district' - без описания\n",
    "- (-)'census tract' - без описания\n",
    "- (-)'bin' - без описания\n",
    "- (-)'bbl' - без описания"
   ]
  },
  {
   "cell_type": "markdown",
   "id": "486f843d-623d-4f97-bb17-9a38969c866f",
   "metadata": {},
   "source": [
    "### 3. Создание нового датасета из отобранных признаков и его анализ"
   ]
  },
  {
   "cell_type": "code",
   "execution_count": 430,
   "id": "2859bb71-86ce-4b83-8cc1-b128f3f82807",
   "metadata": {},
   "outputs": [],
   "source": [
    "# список нерелевантных признаков\n",
    "act_col_list = ['tree_id', 'block_id', 'created_at', 'spc_latin', 'spc_common', 'steward', 'user_type', 'address', 'postcode', 'zip_city',\n",
    "                'community board', 'borocode', 'borough', 'cncldist','st_assem', 'st_senate', 'nta', 'nta_name', 'boro_ct', \n",
    "                'state', 'council district', 'census tract', 'bin', 'bbl']"
   ]
  },
  {
   "cell_type": "code",
   "execution_count": 431,
   "id": "9321d31f-6dc4-4f1f-aaf4-fb14763f8c89",
   "metadata": {},
   "outputs": [
    {
     "data": {
      "text/plain": [
       "Index(['tree_dbh', 'stump_diam', 'curb_loc', 'status', 'health', 'guards',\n",
       "       'sidewalk', 'problems', 'root_stone', 'root_grate', 'root_other',\n",
       "       'trunk_wire', 'trnk_light', 'trnk_other', 'brch_light', 'brch_shoe',\n",
       "       'brch_other', 'latitude', 'longitude', 'x_sp', 'y_sp'],\n",
       "      dtype='object')"
      ]
     },
     "execution_count": 431,
     "metadata": {},
     "output_type": "execute_result"
    }
   ],
   "source": [
    "# удаляем эти признаки из датасета\n",
    "df_act = df_raw.drop(columns=act_col_list)\n",
    "df_act.columns"
   ]
  },
  {
   "cell_type": "markdown",
   "id": "746ba404-28d8-403c-bc6e-467669f2f57c",
   "metadata": {},
   "source": [
    "- Сначала проанализируем колонку с целевыми метками - удалим некорректные значения и посмотрим распределение деревьев по классам их состония"
   ]
  },
  {
   "cell_type": "code",
   "execution_count": 432,
   "id": "6e91c523-6b85-41e7-a58e-b51fdda4486d",
   "metadata": {},
   "outputs": [
    {
     "data": {
      "text/plain": [
       "array(['Fair', 'Good', 'Poor', nan], dtype=object)"
      ]
     },
     "execution_count": 432,
     "metadata": {},
     "output_type": "execute_result"
    }
   ],
   "source": [
    "# выводим список уникальных меток в столбце\n",
    "df_act.health.unique()"
   ]
  },
  {
   "cell_type": "code",
   "execution_count": 433,
   "id": "d57db2a9-dd5c-4f29-a851-ab749e674a54",
   "metadata": {},
   "outputs": [
    {
     "data": {
      "text/plain": [
       "np.int64(31616)"
      ]
     },
     "execution_count": 433,
     "metadata": {},
     "output_type": "execute_result"
    }
   ],
   "source": [
    "# определяем количество NaN среди целевыхб меток\n",
    "df_act.health.isnull().sum()"
   ]
  },
  {
   "cell_type": "code",
   "execution_count": 434,
   "id": "a344f68b-e53f-41c7-bd11-ab6835aad2b7",
   "metadata": {},
   "outputs": [],
   "source": [
    "# удаляем строки данных датасета, содержащие NaN в 'health'\n",
    "df_act.dropna(axis=0, subset='health', inplace=True, ignore_index=True)"
   ]
  },
  {
   "cell_type": "code",
   "execution_count": 435,
   "id": "985c8e8a-b141-4873-87e5-fb010e80bb59",
   "metadata": {},
   "outputs": [
    {
     "data": {
      "text/plain": [
       "health\n",
       "Good    0.810906\n",
       "Fair    0.147973\n",
       "Poor    0.041121\n",
       "Name: proportion, dtype: float64"
      ]
     },
     "execution_count": 435,
     "metadata": {},
     "output_type": "execute_result"
    }
   ],
   "source": [
    "# выводим распределение данных по классам\n",
    "df_act.health.value_counts(normalize=1)"
   ]
  },
  {
   "cell_type": "markdown",
   "id": "e74ce2be-f788-4448-8ba2-974479bd3a1c",
   "metadata": {},
   "source": [
    "- В данных присутствует сильный дисбаланс по классам, что будет крайне отрицательно сказываеться на классификации. Чтобы попытаться получить от сути осмысленные результаты будем создавать несколько датасетов для обучения, валидации и тестирования - полный, где будут присутствовать все отобранные данные; сбалансированный, где данные будут выбираться из исходного датасета так, чтобы их количество в классах было примерно ожинаковым; и такие же датасеты, с двумя классами - 'Good' и 'Fair' + 'Poor'. "
   ]
  },
  {
   "cell_type": "code",
   "execution_count": 436,
   "id": "5133894c-ab6b-4954-9ee6-ef4cbb8e37ab",
   "metadata": {},
   "outputs": [
    {
     "name": "stdout",
     "output_type": "stream",
     "text": [
      "<class 'pandas.core.frame.DataFrame'>\n",
      "RangeIndex: 652172 entries, 0 to 652171\n",
      "Data columns (total 21 columns):\n",
      " #   Column      Non-Null Count   Dtype  \n",
      "---  ------      --------------   -----  \n",
      " 0   tree_dbh    652172 non-null  int64  \n",
      " 1   stump_diam  652172 non-null  int64  \n",
      " 2   curb_loc    652172 non-null  object \n",
      " 3   status      652172 non-null  object \n",
      " 4   health      652172 non-null  object \n",
      " 5   guards      79866 non-null   object \n",
      " 6   sidewalk    652171 non-null  object \n",
      " 7   problems    225844 non-null  object \n",
      " 8   root_stone  652172 non-null  object \n",
      " 9   root_grate  652172 non-null  object \n",
      " 10  root_other  652172 non-null  object \n",
      " 11  trunk_wire  652172 non-null  object \n",
      " 12  trnk_light  652172 non-null  object \n",
      " 13  trnk_other  652172 non-null  object \n",
      " 14  brch_light  652172 non-null  object \n",
      " 15  brch_shoe   652172 non-null  object \n",
      " 16  brch_other  652172 non-null  object \n",
      " 17  latitude    652172 non-null  float64\n",
      " 18  longitude   652172 non-null  float64\n",
      " 19  x_sp        652172 non-null  float64\n",
      " 20  y_sp        652172 non-null  float64\n",
      "dtypes: float64(4), int64(2), object(15)\n",
      "memory usage: 104.5+ MB\n"
     ]
    }
   ],
   "source": [
    "df_act.info()"
   ]
  },
  {
   "cell_type": "markdown",
   "id": "f6ff6163-78c1-46ab-a6d6-44238e6bc1eb",
   "metadata": {},
   "source": [
    "- Датасет в основном представлен категориальными данными. Из количественных только - tree_dbh, stump_diam, x_sp, y_sp, latitude, longitude. Но последние - долгота и широта - однозначно связаны с декартовыми координатами x_sp, y_sp.\n",
    "##### Cначал изучим категориальные данные. Посмотрим распределения, удалим строки, содержащие NaN и перейдём от строковых категорий к целочисленным, например, 'No' - 0, 'Yes' - 1"
   ]
  },
  {
   "cell_type": "code",
   "execution_count": 437,
   "id": "b8440e32-1d47-4e69-a192-a3dd14ea7101",
   "metadata": {},
   "outputs": [
    {
     "data": {
      "text/plain": [
       "(array(['OnCurb', 'OffsetFromCurb'], dtype=object),\n",
       " curb_loc\n",
       " OnCurb            0.960325\n",
       " OffsetFromCurb    0.039675\n",
       " Name: proportion, dtype: float64,\n",
       " np.int64(0))"
      ]
     },
     "execution_count": 437,
     "metadata": {},
     "output_type": "execute_result"
    }
   ],
   "source": [
    "# выводим массив уникальных категорий, распределение по категорим, проверям наличие NaN\n",
    "df_act.curb_loc.unique(), df_act.curb_loc.value_counts(normalize=1), df_act.curb_loc.isnull().sum()"
   ]
  },
  {
   "cell_type": "code",
   "execution_count": 438,
   "id": "8ab1bd4d-4e01-4aa4-9a9f-e0877e00ff17",
   "metadata": {},
   "outputs": [
    {
     "data": {
      "text/plain": [
       "curb_loc        health\n",
       "OffsetFromCurb  Good      0.806841\n",
       "                Fair      0.155942\n",
       "                Poor      0.037217\n",
       "OnCurb          Good      0.811074\n",
       "                Fair      0.147644\n",
       "                Poor      0.041282\n",
       "Name: proportion, dtype: float64"
      ]
     },
     "execution_count": 438,
     "metadata": {},
     "output_type": "execute_result"
    }
   ],
   "source": [
    "# выводим распределение по целевым меткам внутри категорий\n",
    "df_act.groupby('curb_loc').health.value_counts(normalize=1)"
   ]
  },
  {
   "cell_type": "code",
   "execution_count": 439,
   "id": "f9c4c078-ffae-4527-b1c3-a48cca3d5c87",
   "metadata": {},
   "outputs": [],
   "source": [
    "# переобозначаем категории\n",
    "df_act.curb_loc = df_act.curb_loc.map({'OnCurb': 0, 'OffsetFromCurb': 1})"
   ]
  },
  {
   "cell_type": "code",
   "execution_count": 440,
   "id": "60b5b316-d8e6-440c-b5c2-cf6d8d97e81d",
   "metadata": {},
   "outputs": [
    {
     "data": {
      "text/plain": [
       "array(['Alive'], dtype=object)"
      ]
     },
     "execution_count": 440,
     "metadata": {},
     "output_type": "execute_result"
    }
   ],
   "source": [
    "# выводим массив уникальных категорий\n",
    "df_act.status.unique()"
   ]
  },
  {
   "cell_type": "code",
   "execution_count": 441,
   "id": "a9d16799-1c6d-4885-b55d-0a3a82fa2f1c",
   "metadata": {},
   "outputs": [],
   "source": [
    "# удаляем этот признак, т.к. у него осталась только одна категория - 'alive' после очистки столбца 'health'\n",
    "df_act.drop(columns=['status'], inplace=True)"
   ]
  },
  {
   "cell_type": "code",
   "execution_count": 442,
   "id": "5d92611c-41b4-4a1a-9ad4-2dee804790e7",
   "metadata": {},
   "outputs": [
    {
     "data": {
      "text/plain": [
       "array([nan, 'Helpful', 'Harmful', 'Unsure'], dtype=object)"
      ]
     },
     "execution_count": 442,
     "metadata": {},
     "output_type": "execute_result"
    }
   ],
   "source": [
    "# выводим массив уникальных категорий\n",
    "df_act.guards.unique()"
   ]
  },
  {
   "cell_type": "code",
   "execution_count": 443,
   "id": "a20f5331-02ce-4798-9fd7-8c5337c22638",
   "metadata": {},
   "outputs": [
    {
     "data": {
      "text/plain": [
       "(guards\n",
       " Helpful    0.649413\n",
       " Harmful    0.253575\n",
       " Unsure     0.097012\n",
       " Name: proportion, dtype: float64,\n",
       " np.int64(572306))"
      ]
     },
     "execution_count": 443,
     "metadata": {},
     "output_type": "execute_result"
    }
   ],
   "source": [
    "# выводим распределение по категорим, подсчитываем количество NaN\n",
    "df_act.guards.value_counts(normalize=1), df_act.guards.isnull().sum()"
   ]
  },
  {
   "cell_type": "code",
   "execution_count": 444,
   "id": "6d14889c-22e8-435c-935c-d05fcb314ed2",
   "metadata": {},
   "outputs": [],
   "source": [
    "# удаляем признак, т.к. основная масса данных в нём - мусор\n",
    "df_act.drop(columns=['guards'], inplace=True)"
   ]
  },
  {
   "cell_type": "code",
   "execution_count": 445,
   "id": "d5847834-9e32-4c92-b11c-d84ed988357a",
   "metadata": {},
   "outputs": [
    {
     "data": {
      "text/plain": [
       "array(['NoDamage', 'Damage', nan], dtype=object)"
      ]
     },
     "execution_count": 445,
     "metadata": {},
     "output_type": "execute_result"
    }
   ],
   "source": [
    "# выводим массив уникальных категорий\n",
    "df_act.sidewalk.unique()"
   ]
  },
  {
   "cell_type": "code",
   "execution_count": 446,
   "id": "c84dba31-665c-4b7c-b188-d184c8769bab",
   "metadata": {},
   "outputs": [
    {
     "data": {
      "text/plain": [
       "(sidewalk\n",
       " NoDamage    0.712969\n",
       " Damage      0.287031\n",
       " Name: proportion, dtype: float64,\n",
       " np.int64(1))"
      ]
     },
     "execution_count": 446,
     "metadata": {},
     "output_type": "execute_result"
    }
   ],
   "source": [
    "# выводим распределение по категорим, подсчитываем количество NaN\n",
    "df_act.sidewalk.value_counts(normalize=1), df_act.sidewalk.isnull().sum()   "
   ]
  },
  {
   "cell_type": "code",
   "execution_count": 447,
   "id": "63a3cc03-8e5a-41f6-b79a-de3c18087398",
   "metadata": {},
   "outputs": [],
   "source": [
    "# удаляем строку с NaN, переобозначаем категории\n",
    "df_act.dropna(axis=0, subset='sidewalk', inplace=True, ignore_index=True)\n",
    "df_act.sidewalk = df_act.sidewalk.map({'NoDamage': 0, 'Damage': 1})"
   ]
  },
  {
   "cell_type": "code",
   "execution_count": 448,
   "id": "6db3b1c8-69d1-4b34-b3e0-8fe860d09786",
   "metadata": {},
   "outputs": [
    {
     "data": {
      "text/plain": [
       "(problems\n",
       " Stones                                                                          0.423624\n",
       " BranchLights                                                                    0.130409\n",
       " Stones,BranchLights                                                             0.078851\n",
       " RootOther                                                                       0.050557\n",
       " TrunkOther                                                                      0.049339\n",
       "                                                                                   ...   \n",
       " Stones,MetalGrates,WiresRope,TrunkLights,TrunkOther,BranchLights,BranchOther    0.000004\n",
       " WiresRope,BranchLights,Sneakers                                                 0.000004\n",
       " MetalGrates,WiresRope,TrunkLights                                               0.000004\n",
       " Stones,RootOther,TrunkLights,TrunkOther,BranchOther                             0.000004\n",
       " MetalGrates,TrunkOther,Sneakers                                                 0.000004\n",
       " Name: proportion, Length: 231, dtype: float64,\n",
       " np.int64(426327))"
      ]
     },
     "execution_count": 448,
     "metadata": {},
     "output_type": "execute_result"
    }
   ],
   "source": [
    "# выводим распределение по категорим, подсчитываем количество NaN\n",
    "df_act.problems.value_counts(normalize=1), df_act.problems.isnull().sum()"
   ]
  },
  {
   "cell_type": "code",
   "execution_count": 449,
   "id": "4429d5b8-fb23-4efe-8a79-fc58040344c3",
   "metadata": {},
   "outputs": [],
   "source": [
    "# удаляем признак, т.к. основная масса данных в нём - мусор\n",
    "df_act.drop(columns=['problems'], inplace=True)"
   ]
  },
  {
   "cell_type": "code",
   "execution_count": 450,
   "id": "bf7f82cd-d6bb-4819-bf57-590527197128",
   "metadata": {},
   "outputs": [
    {
     "data": {
      "text/html": [
       "<div>\n",
       "<style scoped>\n",
       "    .dataframe tbody tr th:only-of-type {\n",
       "        vertical-align: middle;\n",
       "    }\n",
       "\n",
       "    .dataframe tbody tr th {\n",
       "        vertical-align: top;\n",
       "    }\n",
       "\n",
       "    .dataframe thead th {\n",
       "        text-align: right;\n",
       "    }\n",
       "</style>\n",
       "<table border=\"1\" class=\"dataframe\">\n",
       "  <thead>\n",
       "    <tr style=\"text-align: right;\">\n",
       "      <th></th>\n",
       "      <th>root_stone</th>\n",
       "      <th>root_grate</th>\n",
       "      <th>root_other</th>\n",
       "      <th>trunk_wire</th>\n",
       "      <th>trnk_light</th>\n",
       "      <th>trnk_other</th>\n",
       "      <th>brch_light</th>\n",
       "      <th>brch_shoe</th>\n",
       "      <th>brch_other</th>\n",
       "    </tr>\n",
       "  </thead>\n",
       "  <tbody>\n",
       "    <tr>\n",
       "      <th>count</th>\n",
       "      <td>652171</td>\n",
       "      <td>652171</td>\n",
       "      <td>652171</td>\n",
       "      <td>652171</td>\n",
       "      <td>652171</td>\n",
       "      <td>652171</td>\n",
       "      <td>652171</td>\n",
       "      <td>652171</td>\n",
       "      <td>652171</td>\n",
       "    </tr>\n",
       "    <tr>\n",
       "      <th>unique</th>\n",
       "      <td>2</td>\n",
       "      <td>2</td>\n",
       "      <td>2</td>\n",
       "      <td>2</td>\n",
       "      <td>2</td>\n",
       "      <td>2</td>\n",
       "      <td>2</td>\n",
       "      <td>2</td>\n",
       "      <td>2</td>\n",
       "    </tr>\n",
       "    <tr>\n",
       "      <th>top</th>\n",
       "      <td>No</td>\n",
       "      <td>No</td>\n",
       "      <td>No</td>\n",
       "      <td>No</td>\n",
       "      <td>No</td>\n",
       "      <td>No</td>\n",
       "      <td>No</td>\n",
       "      <td>No</td>\n",
       "      <td>No</td>\n",
       "    </tr>\n",
       "    <tr>\n",
       "      <th>freq</th>\n",
       "      <td>512172</td>\n",
       "      <td>648635</td>\n",
       "      <td>621849</td>\n",
       "      <td>638897</td>\n",
       "      <td>651140</td>\n",
       "      <td>619598</td>\n",
       "      <td>589806</td>\n",
       "      <td>651760</td>\n",
       "      <td>627816</td>\n",
       "    </tr>\n",
       "  </tbody>\n",
       "</table>\n",
       "</div>"
      ],
      "text/plain": [
       "       root_stone root_grate root_other trunk_wire trnk_light trnk_other  \\\n",
       "count      652171     652171     652171     652171     652171     652171   \n",
       "unique          2          2          2          2          2          2   \n",
       "top            No         No         No         No         No         No   \n",
       "freq       512172     648635     621849     638897     651140     619598   \n",
       "\n",
       "       brch_light brch_shoe brch_other  \n",
       "count      652171    652171     652171  \n",
       "unique          2         2          2  \n",
       "top            No        No         No  \n",
       "freq       589806    651760     627816  "
      ]
     },
     "execution_count": 450,
     "metadata": {},
     "output_type": "execute_result"
    }
   ],
   "source": [
    "# выводим информацию по оставшимся категориальным признакам\n",
    "df_act[['root_stone',\n",
    "       'root_grate', 'root_other', 'trunk_wire', 'trnk_light', 'trnk_other',\n",
    "       'brch_light', 'brch_shoe', 'brch_other']].describe()"
   ]
  },
  {
   "cell_type": "code",
   "execution_count": 451,
   "id": "bedf94b0-b717-4cd0-a93a-f24ab1fec7bb",
   "metadata": {},
   "outputs": [
    {
     "data": {
      "text/plain": [
       "root_stone    0\n",
       "root_grate    0\n",
       "root_other    0\n",
       "trunk_wire    0\n",
       "trnk_light    0\n",
       "trnk_other    0\n",
       "brch_light    0\n",
       "brch_shoe     0\n",
       "brch_other    0\n",
       "dtype: int64"
      ]
     },
     "execution_count": 451,
     "metadata": {},
     "output_type": "execute_result"
    }
   ],
   "source": [
    "# подсчитываем количество NaN\n",
    "df_act[['root_stone',\n",
    "       'root_grate', 'root_other', 'trunk_wire', 'trnk_light', 'trnk_other',\n",
    "       'brch_light', 'brch_shoe', 'brch_other']].isnull().sum()"
   ]
  },
  {
   "cell_type": "code",
   "execution_count": 452,
   "id": "73d4524e-cefc-4915-adb4-fd4e56a15e14",
   "metadata": {},
   "outputs": [],
   "source": [
    "# удаляем признаки, где практически все значения принадлежат одной категории, например, 'trnk_light', где более 99% - 'No'\n",
    "df_act.drop(columns=['root_grate', 'trnk_light', 'brch_shoe'], inplace=True)"
   ]
  },
  {
   "cell_type": "code",
   "execution_count": 453,
   "id": "2f498d05-62ed-4361-aa22-ddd75597e327",
   "metadata": {},
   "outputs": [],
   "source": [
    "# переобозначаем категории\n",
    "df_act['root_stone'] = df_act['root_stone'].map({'No': 0, 'Yes': 1})\n",
    "df_act['root_other'] = df_act['root_other'].map({'No': 0, 'Yes': 1})\n",
    "df_act['trunk_wire'] = df_act['trunk_wire'].map({'No': 0, 'Yes': 1})\n",
    "df_act['trnk_other'] = df_act['trnk_other'].map({'No': 0, 'Yes': 1})\n",
    "df_act['brch_light'] = df_act['brch_light'].map({'No': 0, 'Yes': 1})\n",
    "df_act['brch_other'] = df_act['brch_other'].map({'No': 0, 'Yes': 1})"
   ]
  },
  {
   "cell_type": "code",
   "execution_count": 454,
   "id": "923f7442-6a1b-4cb1-9495-3194cf12eb04",
   "metadata": {},
   "outputs": [],
   "source": [
    "# находим индексы строк в категориальных данных, все признаки (значения) в которых равны нулю\n",
    "categorical_cols = ['curb_loc', 'sidewalk', 'root_stone',\n",
    "       'root_other', 'trunk_wire', 'trnk_other', 'brch_light', 'brch_other']\n",
    "inds = df_act.index[df_act[categorical_cols].eq(0).all(axis=1)]"
   ]
  },
  {
   "cell_type": "code",
   "execution_count": 455,
   "id": "3be754f2-7f93-466b-a813-2a37cc86f411",
   "metadata": {},
   "outputs": [
    {
     "data": {
      "text/plain": [
       "np.int64(331589)"
      ]
     },
     "execution_count": 455,
     "metadata": {},
     "output_type": "execute_result"
    }
   ],
   "source": [
    "# подсчитываем их количество\n",
    "(df_act[categorical_cols] == 0).all(axis=1).sum()"
   ]
  },
  {
   "cell_type": "code",
   "execution_count": 456,
   "id": "aacaaecb-54b8-454e-b1f0-f1e75a0a5b2f",
   "metadata": {},
   "outputs": [],
   "source": [
    "# удаляем категорильные признаки, т.к. около половины из них имеют одинаковые значения\n",
    "df_act.drop(columns=[*categorical_cols], inplace=True)"
   ]
  },
  {
   "cell_type": "markdown",
   "id": "83c42127-2954-4983-a410-8ef80b30ab40",
   "metadata": {},
   "source": [
    "##### В качестве промежуточного вывода отметим, что категориальные данные не могут быть использованы для обучения сети т.к.:\n",
    "- около половины строк (деревье) имеют одинаковые значения признаков - все отрицательные. Для нейронной сети все эти точки будут одинаковыми, что не позволит ей обучаться;\n",
    "- в принципе для задачи классификации такие данные не подходят, т.к. большая часть деревья, принадлежащих разным целевым классам имеют одинаковые признаки, что, в свою очередь, не позволит их однозначно отнести к какому-либо одному классу;\n",
    "- применительно к категориальным данным можно было бы пропробовать \"зацепиться\" за ранее исключённый из рассмотрения признак - названия деревьев. При помощи one-hot encoding получить числовые значения, кодирующие названия и попробовать обучить сеть. Но такой подход будет сталкиваться с той же проблемой - одно и то же дерево (one-hot vector) будет принаблежать разным целевым классам."
   ]
  },
  {
   "cell_type": "markdown",
   "id": "44c3b778-1eeb-473f-9479-6acb9ac818b0",
   "metadata": {},
   "source": [
    "##### Теперь перейдём к анализу и подготовке количественных данных"
   ]
  },
  {
   "cell_type": "markdown",
   "id": "a1684bd0-72ec-4b93-a4ba-dcefdc33eba5",
   "metadata": {},
   "source": [
    "- Диаметр дерева"
   ]
  },
  {
   "cell_type": "code",
   "execution_count": 457,
   "id": "31b3fd49-8d35-4c8c-9b62-fa0d68b7a923",
   "metadata": {},
   "outputs": [
    {
     "data": {
      "text/plain": [
       "count    652171.000000\n",
       "mean         11.709486\n",
       "std           8.634249\n",
       "min           0.000000\n",
       "25%           5.000000\n",
       "50%          10.000000\n",
       "75%          16.000000\n",
       "max         425.000000\n",
       "Name: tree_dbh, dtype: float64"
      ]
     },
     "execution_count": 457,
     "metadata": {},
     "output_type": "execute_result"
    }
   ],
   "source": [
    "# выводим статистику по этому признаку\n",
    "df_act.tree_dbh.describe()"
   ]
  },
  {
   "cell_type": "code",
   "execution_count": 458,
   "id": "1495b3b4-efdd-4b1c-9b04-ed8d6a9c36ec",
   "metadata": {},
   "outputs": [
    {
     "data": {
      "image/png": "[encoded data removed]",
      "text/plain": [
       "<Figure size 640x480 with 1 Axes>"
      ]
     },
     "metadata": {},
     "output_type": "display_data"
    }
   ],
   "source": [
    "# Вывим гистограмму\n",
    "_, _, _ = plt.hist(df_act.tree_dbh, bins=100)"
   ]
  },
  {
   "cell_type": "code",
   "execution_count": 459,
   "id": "2014e721-f8e3-403e-8974-e90eda248080",
   "metadata": {},
   "outputs": [
    {
     "data": {
      "text/plain": [
       "np.int64(3099)"
      ]
     },
     "execution_count": 459,
     "metadata": {},
     "output_type": "execute_result"
    }
   ],
   "source": [
    "# вычисляем количество выбросов\n",
    "(df_act.tree_dbh >= 40).sum()"
   ]
  },
  {
   "cell_type": "code",
   "execution_count": 460,
   "id": "4f6db381-5d95-491f-ba4d-ad2df0be52a2",
   "metadata": {},
   "outputs": [
    {
     "data": {
      "text/plain": [
       "health\n",
       "Good    0.889642\n",
       "Fair    0.094547\n",
       "Poor    0.015812\n",
       "Name: proportion, dtype: float64"
      ]
     },
     "execution_count": 460,
     "metadata": {},
     "output_type": "execute_result"
    }
   ],
   "source": [
    "# выводим статичтику по выбросам\n",
    "df_act[df_act.tree_dbh >= 40].health.value_counts(normalize=1)"
   ]
  },
  {
   "cell_type": "code",
   "execution_count": 461,
   "id": "85c73e9e-a94f-4fe9-a805-37967c1de167",
   "metadata": {},
   "outputs": [
    {
     "data": {
      "image/png": "[encoded data removed]",
      "text/plain": [
       "<Figure size 640x480 with 1 Axes>"
      ]
     },
     "metadata": {},
     "output_type": "display_data"
    }
   ],
   "source": [
    "#Удаляем выбросы, т.к. в основном они состоят из класса 'Good', что не усилит дисбаланс классов.\n",
    "# Также удаляем нули - мысор в данных\n",
    "df_act.drop(labels=np.where(df_act.tree_dbh >= 40)[0], axis=0, inplace=True)\n",
    "df_act.reset_index(inplace=True, drop=True)\n",
    "df_act.drop(labels=np.where(df_act.tree_dbh == 0)[0], axis=0, inplace=True)\n",
    "df_act.reset_index(inplace=True, drop=True)\n",
    "_, _, _ = plt.hist(df_act.tree_dbh, bins=50)"
   ]
  },
  {
   "cell_type": "markdown",
   "id": "e45fe82c-11c2-4c84-a345-28b49f280903",
   "metadata": {},
   "source": [
    "- Диаметр пня"
   ]
  },
  {
   "cell_type": "code",
   "execution_count": 462,
   "id": "b2e8307b-1f95-4f78-870d-3a2739f6e050",
   "metadata": {},
   "outputs": [
    {
     "data": {
      "text/plain": [
       "count    648850.0\n",
       "mean          0.0\n",
       "std           0.0\n",
       "min           0.0\n",
       "25%           0.0\n",
       "50%           0.0\n",
       "75%           0.0\n",
       "max           0.0\n",
       "Name: stump_diam, dtype: float64"
      ]
     },
     "execution_count": 462,
     "metadata": {},
     "output_type": "execute_result"
    }
   ],
   "source": [
    "# выводим статистику по диаметра пня\n",
    "df_act.stump_diam.describe()"
   ]
  },
  {
   "cell_type": "code",
   "execution_count": 463,
   "id": "aa4ebfc8-0bc5-4729-92a8-4b72bafb93a5",
   "metadata": {},
   "outputs": [],
   "source": [
    "#Все значения после предыдущих очисток равны нулю - удаляем столбец\n",
    "df_act.drop(columns=['stump_diam'], inplace=True)"
   ]
  },
  {
   "cell_type": "markdown",
   "id": "ddb8cce8-a552-4437-8db8-37b2e64a3530",
   "metadata": {},
   "source": [
    "- Координаты деревьев в декартовой системе координат и на сфере (долгота и широта)\n",
    "- Декартовы координаты и долгота с широтой связаны функциональной зависимостью с точностью до отличия элемнта плоскости от чем можно пренебречь в рамках задачи. Поэтому имеет смысл избавиться от колонок со значениями долготы и широты. Проверим это - между соответствующими величинами должна быть сильная корреляция. И построим scatter plot - они должны выглядеть одинаково для обоих наборов координат"
   ]
  },
  {
   "cell_type": "code",
   "execution_count": 464,
   "id": "d3d5c229-b40c-468c-b0b0-f4f0c8eb6cbe",
   "metadata": {},
   "outputs": [
    {
     "data": {
      "text/html": [
       "<div>\n",
       "<style scoped>\n",
       "    .dataframe tbody tr th:only-of-type {\n",
       "        vertical-align: middle;\n",
       "    }\n",
       "\n",
       "    .dataframe tbody tr th {\n",
       "        vertical-align: top;\n",
       "    }\n",
       "\n",
       "    .dataframe thead th {\n",
       "        text-align: right;\n",
       "    }\n",
       "</style>\n",
       "<table border=\"1\" class=\"dataframe\">\n",
       "  <thead>\n",
       "    <tr style=\"text-align: right;\">\n",
       "      <th></th>\n",
       "      <th>latitude</th>\n",
       "      <th>longitude</th>\n",
       "      <th>x_sp</th>\n",
       "      <th>y_sp</th>\n",
       "    </tr>\n",
       "  </thead>\n",
       "  <tbody>\n",
       "    <tr>\n",
       "      <th>latitude</th>\n",
       "      <td>1.000000</td>\n",
       "      <td>0.515256</td>\n",
       "      <td>0.514511</td>\n",
       "      <td>0.999999</td>\n",
       "    </tr>\n",
       "    <tr>\n",
       "      <th>longitude</th>\n",
       "      <td>0.515256</td>\n",
       "      <td>1.000000</td>\n",
       "      <td>0.999999</td>\n",
       "      <td>0.515908</td>\n",
       "    </tr>\n",
       "    <tr>\n",
       "      <th>x_sp</th>\n",
       "      <td>0.514511</td>\n",
       "      <td>0.999999</td>\n",
       "      <td>1.000000</td>\n",
       "      <td>0.515162</td>\n",
       "    </tr>\n",
       "    <tr>\n",
       "      <th>y_sp</th>\n",
       "      <td>0.999999</td>\n",
       "      <td>0.515908</td>\n",
       "      <td>0.515162</td>\n",
       "      <td>1.000000</td>\n",
       "    </tr>\n",
       "  </tbody>\n",
       "</table>\n",
       "</div>"
      ],
      "text/plain": [
       "           latitude  longitude      x_sp      y_sp\n",
       "latitude   1.000000   0.515256  0.514511  0.999999\n",
       "longitude  0.515256   1.000000  0.999999  0.515908\n",
       "x_sp       0.514511   0.999999  1.000000  0.515162\n",
       "y_sp       0.999999   0.515908  0.515162  1.000000"
      ]
     },
     "execution_count": 464,
     "metadata": {},
     "output_type": "execute_result"
    }
   ],
   "source": [
    "# выводим корреляцию между признаками\n",
    "df_act[['latitude',\n",
    "       'longitude', 'x_sp', 'y_sp']].corr(method='spearman')"
   ]
  },
  {
   "cell_type": "code",
   "execution_count": 465,
   "id": "566a973f-a42c-4613-b427-e66227ef25e9",
   "metadata": {},
   "outputs": [
    {
     "data": {
      "text/plain": [
       "(np.float64(40.49846614),\n",
       " np.float64(40.91291831),\n",
       " np.float64(-74.2549647),\n",
       " np.float64(-73.70048817))"
      ]
     },
     "execution_count": 465,
     "metadata": {},
     "output_type": "execute_result"
    }
   ],
   "source": [
    "# Сильная корреляция latitude-y_sp и longitude-x_sp\n",
    "# выводим минимальные и максимальные значения долгот и широт\n",
    "df_act.latitude.min(), df_act.latitude.max(), df_act.longitude.min(), df_act.longitude.max()"
   ]
  },
  {
   "cell_type": "code",
   "execution_count": 466,
   "id": "5448ff16-cdbd-4d8d-b475-ee9949dd84c7",
   "metadata": {},
   "outputs": [
    {
     "data": {
      "text/plain": [
       "(np.float64(913349.2661),\n",
       " np.float64(1067247.624),\n",
       " np.float64(120973.7922),\n",
       " np.float64(271894.0921))"
      ]
     },
     "execution_count": 466,
     "metadata": {},
     "output_type": "execute_result"
    }
   ],
   "source": [
    "# выводим минимальные и максимальные значения координат\n",
    "df_act.x_sp.min(), df_act.x_sp.max(), df_act.y_sp.min(), df_act.y_sp.max()"
   ]
  },
  {
   "cell_type": "code",
   "execution_count": 467,
   "id": "baa5e760-e027-4b70-86aa-11e40b0278e5",
   "metadata": {},
   "outputs": [
    {
     "data": {
      "image/png": "[encoded data removed]",
      "text/plain": [
       "<Figure size 640x480 with 1 Axes>"
      ]
     },
     "metadata": {},
     "output_type": "display_data"
    }
   ],
   "source": [
    "# строим scatter plot (должен повторять карту Нью-Йорка) для значений декартовый координат\n",
    "x_good, y_good = df_act.x_sp[df_act.health == 'Good'], df_act.y_sp[df_act.health == 'Good']\n",
    "x_fair, y_fair = df_act.x_sp[df_act.health == 'Fair'], df_act.y_sp[df_act.health == 'Fair']\n",
    "x_poor, y_poor = df_act.x_sp[df_act.health == 'Poor'], df_act.y_sp[df_act.health == 'Poor']\n",
    "plt.scatter(x_good, y_good, s=0.3, c='r')\n",
    "plt.scatter(x_fair, y_fair, s=0.2, c='b')\n",
    "plt.scatter(x_poor, y_poor, s=0.1, c='g')\n",
    "plt.show()"
   ]
  },
  {
   "cell_type": "code",
   "execution_count": 468,
   "id": "e01152ab-c6cf-4407-9d6b-04ccd06d5459",
   "metadata": {},
   "outputs": [
    {
     "data": {
      "image/png": "[encoded data removed]",
      "text/plain": [
       "<Figure size 640x480 with 1 Axes>"
      ]
     },
     "metadata": {},
     "output_type": "display_data"
    }
   ],
   "source": [
    "# строим scatter plot (должен повторять карту Нью-Йорка) для значений долгот и широт\n",
    "lat_good, long_good = df_act.latitude[df_act.health == 'Good'], df_act.longitude[df_act.health == 'Good']\n",
    "lat_fair, long_fair = df_act.latitude[df_act.health == 'Fair'], df_act.longitude[df_act.health == 'Fair']\n",
    "lat_poor, long_poor = df_act.latitude[df_act.health == 'Poor'], df_act.longitude[df_act.health == 'Poor']\n",
    "plt.scatter(long_good, lat_good, s=0.3, c='r')\n",
    "plt.scatter(long_fair, lat_fair, s=0.2, c='b')\n",
    "plt.scatter(long_poor, lat_poor, s=0.1, c='g')\n",
    "plt.show()"
   ]
  },
  {
   "cell_type": "code",
   "execution_count": 469,
   "id": "c17d88b3-1346-42c8-9929-14afc765976f",
   "metadata": {},
   "outputs": [
    {
     "data": {
      "text/plain": [
       "Index(['tree_dbh', 'health', 'x_sp', 'y_sp'], dtype='object')"
      ]
     },
     "execution_count": 469,
     "metadata": {},
     "output_type": "execute_result"
    }
   ],
   "source": [
    "# Удаляем столбцы с долготами и широтами\n",
    "df_act.drop(columns=['latitude', 'longitude'], inplace=True)\n",
    "df_act.columns"
   ]
  },
  {
   "cell_type": "code",
   "execution_count": 470,
   "id": "adcf94d4-ce2f-40f9-a5b1-0d1740a330c4",
   "metadata": {},
   "outputs": [
    {
     "data": {
      "text/plain": [
       "x_sp\n",
       "1.050550e+06    35\n",
       "9.406974e+05    27\n",
       "1.052818e+06    17\n",
       "9.962435e+05    17\n",
       "1.040292e+06    11\n",
       "                ..\n",
       "9.871279e+05     1\n",
       "9.922386e+05     1\n",
       "9.330225e+05     1\n",
       "1.015924e+06     1\n",
       "1.032772e+06     1\n",
       "Name: count, Length: 646907, dtype: int64"
      ]
     },
     "execution_count": 470,
     "metadata": {},
     "output_type": "execute_result"
    }
   ],
   "source": [
    "# проверям наличие дублированных элементов для x_sp\n",
    "df_act.x_sp.value_counts()"
   ]
  },
  {
   "cell_type": "code",
   "execution_count": 471,
   "id": "1dfdf538-cc07-4e37-a300-19407e3bb69c",
   "metadata": {},
   "outputs": [
    {
     "data": {
      "text/plain": [
       "y_sp\n",
       "179953.5509    35\n",
       "161910.8114    27\n",
       "190562.4395    17\n",
       "163692.3397    17\n",
       "222968.9875    11\n",
       "               ..\n",
       "156296.4745     1\n",
       "225693.6953     1\n",
       "156272.0015     1\n",
       "249382.4891     1\n",
       "228644.8374     1\n",
       "Name: count, Length: 647806, dtype: int64"
      ]
     },
     "execution_count": 471,
     "metadata": {},
     "output_type": "execute_result"
    }
   ],
   "source": [
    "# проверям наличие дублированных элементов для y_sp\n",
    "df_act.y_sp.value_counts()"
   ]
  },
  {
   "cell_type": "code",
   "execution_count": 472,
   "id": "e1fb9db3-a4d1-4f15-820c-f969feae7527",
   "metadata": {},
   "outputs": [],
   "source": [
    "# получаем индексы дубликатов\n",
    "x_dup = np.where(df_act.x_sp.duplicated() == True)[0]\n",
    "y_dup = np.where(df_act.y_sp.duplicated() == True)[0]"
   ]
  },
  {
   "cell_type": "code",
   "execution_count": 473,
   "id": "65ec9c7b-39a9-44a2-9707-afd9e49c994d",
   "metadata": {},
   "outputs": [],
   "source": [
    "# т.к. число дубликатов разное для x_sp и y_sp, то добавим их в списки, чтобы посмотреть примеры\n",
    "list_same = []; list_not_same = []; temp_list = []\n",
    "for val in x_dup:\n",
    "    temp_list.append(val)\n",
    "    inds = np.where(df_act.y_sp == df_act.y_sp[val])[0]\n",
    "    if inds.shape[0] == 1:\n",
    "        x_ind = np.where(df_act.x_sp == df_act.x_sp[val])[0]\n",
    "        if val in temp_list:\n",
    "            list_not_same.append([val, x_ind])\n",
    "        continue\n",
    "    else:\n",
    "        if val in temp_list:\n",
    "            list_same.append([val, inds])"
   ]
  },
  {
   "cell_type": "code",
   "execution_count": 474,
   "id": "60e5b168-ad0c-4c7c-8324-accc1cd52b2e",
   "metadata": {},
   "outputs": [
    {
     "data": {
      "text/html": [
       "<div>\n",
       "<style scoped>\n",
       "    .dataframe tbody tr th:only-of-type {\n",
       "        vertical-align: middle;\n",
       "    }\n",
       "\n",
       "    .dataframe tbody tr th {\n",
       "        vertical-align: top;\n",
       "    }\n",
       "\n",
       "    .dataframe thead th {\n",
       "        text-align: right;\n",
       "    }\n",
       "</style>\n",
       "<table border=\"1\" class=\"dataframe\">\n",
       "  <thead>\n",
       "    <tr style=\"text-align: right;\">\n",
       "      <th></th>\n",
       "      <th>x_sp</th>\n",
       "      <th>y_sp</th>\n",
       "    </tr>\n",
       "  </thead>\n",
       "  <tbody>\n",
       "    <tr>\n",
       "      <th>12797</th>\n",
       "      <td>989180.2139</td>\n",
       "      <td>220667.9655</td>\n",
       "    </tr>\n",
       "    <tr>\n",
       "      <th>14743</th>\n",
       "      <td>989180.2139</td>\n",
       "      <td>220707.3654</td>\n",
       "    </tr>\n",
       "  </tbody>\n",
       "</table>\n",
       "</div>"
      ],
      "text/plain": [
       "              x_sp         y_sp\n",
       "12797  989180.2139  220667.9655\n",
       "14743  989180.2139  220707.3654"
      ]
     },
     "execution_count": 474,
     "metadata": {},
     "output_type": "execute_result"
    }
   ],
   "source": [
    "# пример значений координат, где, очевидно, допущена ошибка в определение  координты y_sp\n",
    "df_act[['x_sp', 'y_sp']].loc[list_not_same[0][1]]"
   ]
  },
  {
   "cell_type": "code",
   "execution_count": 475,
   "id": "c47e888d-ce35-41e6-8249-7d95a3c51675",
   "metadata": {},
   "outputs": [
    {
     "data": {
      "text/html": [
       "<div>\n",
       "<style scoped>\n",
       "    .dataframe tbody tr th:only-of-type {\n",
       "        vertical-align: middle;\n",
       "    }\n",
       "\n",
       "    .dataframe tbody tr th {\n",
       "        vertical-align: top;\n",
       "    }\n",
       "\n",
       "    .dataframe thead th {\n",
       "        text-align: right;\n",
       "    }\n",
       "</style>\n",
       "<table border=\"1\" class=\"dataframe\">\n",
       "  <thead>\n",
       "    <tr style=\"text-align: right;\">\n",
       "      <th></th>\n",
       "      <th>x_sp</th>\n",
       "      <th>y_sp</th>\n",
       "    </tr>\n",
       "  </thead>\n",
       "  <tbody>\n",
       "    <tr>\n",
       "      <th>85491</th>\n",
       "      <td>1014131.162</td>\n",
       "      <td>241412.9936</td>\n",
       "    </tr>\n",
       "    <tr>\n",
       "      <th>85607</th>\n",
       "      <td>1014131.162</td>\n",
       "      <td>241345.9937</td>\n",
       "    </tr>\n",
       "    <tr>\n",
       "      <th>85717</th>\n",
       "      <td>1014131.162</td>\n",
       "      <td>241391.5937</td>\n",
       "    </tr>\n",
       "    <tr>\n",
       "      <th>85783</th>\n",
       "      <td>1014131.162</td>\n",
       "      <td>241284.5936</td>\n",
       "    </tr>\n",
       "    <tr>\n",
       "      <th>86041</th>\n",
       "      <td>1014131.162</td>\n",
       "      <td>241306.1939</td>\n",
       "    </tr>\n",
       "    <tr>\n",
       "      <th>86708</th>\n",
       "      <td>1014131.162</td>\n",
       "      <td>241487.9935</td>\n",
       "    </tr>\n",
       "    <tr>\n",
       "      <th>86892</th>\n",
       "      <td>1014131.162</td>\n",
       "      <td>241327.5935</td>\n",
       "    </tr>\n",
       "    <tr>\n",
       "      <th>86893</th>\n",
       "      <td>1014131.162</td>\n",
       "      <td>241369.5934</td>\n",
       "    </tr>\n",
       "    <tr>\n",
       "      <th>98734</th>\n",
       "      <td>1014131.162</td>\n",
       "      <td>241215.7939</td>\n",
       "    </tr>\n",
       "  </tbody>\n",
       "</table>\n",
       "</div>"
      ],
      "text/plain": [
       "              x_sp         y_sp\n",
       "85491  1014131.162  241412.9936\n",
       "85607  1014131.162  241345.9937\n",
       "85717  1014131.162  241391.5937\n",
       "85783  1014131.162  241284.5936\n",
       "86041  1014131.162  241306.1939\n",
       "86708  1014131.162  241487.9935\n",
       "86892  1014131.162  241327.5935\n",
       "86893  1014131.162  241369.5934\n",
       "98734  1014131.162  241215.7939"
      ]
     },
     "execution_count": 475,
     "metadata": {},
     "output_type": "execute_result"
    }
   ],
   "source": [
    "# аналогичный пример\n",
    "df_act[['x_sp', 'y_sp']].loc[list_not_same[35][1]]"
   ]
  },
  {
   "cell_type": "code",
   "execution_count": 476,
   "id": "d5e03d49-65ab-4d9a-af88-f155ba493fd1",
   "metadata": {},
   "outputs": [
    {
     "data": {
      "text/html": [
       "<div>\n",
       "<style scoped>\n",
       "    .dataframe tbody tr th:only-of-type {\n",
       "        vertical-align: middle;\n",
       "    }\n",
       "\n",
       "    .dataframe tbody tr th {\n",
       "        vertical-align: top;\n",
       "    }\n",
       "\n",
       "    .dataframe thead th {\n",
       "        text-align: right;\n",
       "    }\n",
       "</style>\n",
       "<table border=\"1\" class=\"dataframe\">\n",
       "  <thead>\n",
       "    <tr style=\"text-align: right;\">\n",
       "      <th></th>\n",
       "      <th>x_sp</th>\n",
       "      <th>y_sp</th>\n",
       "    </tr>\n",
       "  </thead>\n",
       "  <tbody>\n",
       "    <tr>\n",
       "      <th>104</th>\n",
       "      <td>994405.4269</td>\n",
       "      <td>233951.0486</td>\n",
       "    </tr>\n",
       "    <tr>\n",
       "      <th>3715</th>\n",
       "      <td>994405.4269</td>\n",
       "      <td>233951.0486</td>\n",
       "    </tr>\n",
       "  </tbody>\n",
       "</table>\n",
       "</div>"
      ],
      "text/plain": [
       "             x_sp         y_sp\n",
       "104   994405.4269  233951.0486\n",
       "3715  994405.4269  233951.0486"
      ]
     },
     "execution_count": 476,
     "metadata": {},
     "output_type": "execute_result"
    }
   ],
   "source": [
    "# пример полного дублирования координат деревьев\n",
    "df_act[['x_sp', 'y_sp']].loc[list_same[0][1]]"
   ]
  },
  {
   "cell_type": "code",
   "execution_count": 477,
   "id": "54266041-503f-4b58-85af-29fa8403b7b8",
   "metadata": {},
   "outputs": [
    {
     "data": {
      "text/html": [
       "<div>\n",
       "<style scoped>\n",
       "    .dataframe tbody tr th:only-of-type {\n",
       "        vertical-align: middle;\n",
       "    }\n",
       "\n",
       "    .dataframe tbody tr th {\n",
       "        vertical-align: top;\n",
       "    }\n",
       "\n",
       "    .dataframe thead th {\n",
       "        text-align: right;\n",
       "    }\n",
       "</style>\n",
       "<table border=\"1\" class=\"dataframe\">\n",
       "  <thead>\n",
       "    <tr style=\"text-align: right;\">\n",
       "      <th></th>\n",
       "      <th>x_sp</th>\n",
       "      <th>y_sp</th>\n",
       "    </tr>\n",
       "  </thead>\n",
       "  <tbody>\n",
       "    <tr>\n",
       "      <th>57617</th>\n",
       "      <td>996243.4593</td>\n",
       "      <td>163692.3397</td>\n",
       "    </tr>\n",
       "    <tr>\n",
       "      <th>58733</th>\n",
       "      <td>996243.4593</td>\n",
       "      <td>163692.3397</td>\n",
       "    </tr>\n",
       "    <tr>\n",
       "      <th>59299</th>\n",
       "      <td>996243.4593</td>\n",
       "      <td>163692.3397</td>\n",
       "    </tr>\n",
       "    <tr>\n",
       "      <th>59300</th>\n",
       "      <td>996243.4593</td>\n",
       "      <td>163692.3397</td>\n",
       "    </tr>\n",
       "    <tr>\n",
       "      <th>60677</th>\n",
       "      <td>996243.4593</td>\n",
       "      <td>163692.3397</td>\n",
       "    </tr>\n",
       "    <tr>\n",
       "      <th>60807</th>\n",
       "      <td>996243.4593</td>\n",
       "      <td>163692.3397</td>\n",
       "    </tr>\n",
       "    <tr>\n",
       "      <th>60970</th>\n",
       "      <td>996243.4593</td>\n",
       "      <td>163692.3397</td>\n",
       "    </tr>\n",
       "    <tr>\n",
       "      <th>61358</th>\n",
       "      <td>996243.4593</td>\n",
       "      <td>163692.3397</td>\n",
       "    </tr>\n",
       "    <tr>\n",
       "      <th>61366</th>\n",
       "      <td>996243.4593</td>\n",
       "      <td>163692.3397</td>\n",
       "    </tr>\n",
       "    <tr>\n",
       "      <th>61487</th>\n",
       "      <td>996243.4593</td>\n",
       "      <td>163692.3397</td>\n",
       "    </tr>\n",
       "    <tr>\n",
       "      <th>61509</th>\n",
       "      <td>996243.4593</td>\n",
       "      <td>163692.3397</td>\n",
       "    </tr>\n",
       "    <tr>\n",
       "      <th>61573</th>\n",
       "      <td>996243.4593</td>\n",
       "      <td>163692.3397</td>\n",
       "    </tr>\n",
       "    <tr>\n",
       "      <th>61596</th>\n",
       "      <td>996243.4593</td>\n",
       "      <td>163692.3397</td>\n",
       "    </tr>\n",
       "    <tr>\n",
       "      <th>61696</th>\n",
       "      <td>996243.4593</td>\n",
       "      <td>163692.3397</td>\n",
       "    </tr>\n",
       "    <tr>\n",
       "      <th>62080</th>\n",
       "      <td>996243.4593</td>\n",
       "      <td>163692.3397</td>\n",
       "    </tr>\n",
       "    <tr>\n",
       "      <th>62349</th>\n",
       "      <td>996243.4593</td>\n",
       "      <td>163692.3397</td>\n",
       "    </tr>\n",
       "    <tr>\n",
       "      <th>73099</th>\n",
       "      <td>996243.4593</td>\n",
       "      <td>163692.3397</td>\n",
       "    </tr>\n",
       "  </tbody>\n",
       "</table>\n",
       "</div>"
      ],
      "text/plain": [
       "              x_sp         y_sp\n",
       "57617  996243.4593  163692.3397\n",
       "58733  996243.4593  163692.3397\n",
       "59299  996243.4593  163692.3397\n",
       "59300  996243.4593  163692.3397\n",
       "60677  996243.4593  163692.3397\n",
       "60807  996243.4593  163692.3397\n",
       "60970  996243.4593  163692.3397\n",
       "61358  996243.4593  163692.3397\n",
       "61366  996243.4593  163692.3397\n",
       "61487  996243.4593  163692.3397\n",
       "61509  996243.4593  163692.3397\n",
       "61573  996243.4593  163692.3397\n",
       "61596  996243.4593  163692.3397\n",
       "61696  996243.4593  163692.3397\n",
       "62080  996243.4593  163692.3397\n",
       "62349  996243.4593  163692.3397\n",
       "73099  996243.4593  163692.3397"
      ]
     },
     "execution_count": 477,
     "metadata": {},
     "output_type": "execute_result"
    }
   ],
   "source": [
    "# аналогичный пример\n",
    "df_act[['x_sp', 'y_sp']].loc[list_same[15][1]]"
   ]
  },
  {
   "cell_type": "markdown",
   "id": "3f7999e3-8b2d-4f40-809f-c8b3a98ee027",
   "metadata": {},
   "source": [
    "- Разное количество дубликатов обусловлено небольшими ошибками в определение координат деревьев"
   ]
  },
  {
   "cell_type": "code",
   "execution_count": 478,
   "id": "a151d44e-d602-43df-b6e4-cc39b19aa1cc",
   "metadata": {},
   "outputs": [],
   "source": [
    "# удаляем дубликаты\n",
    "df_act.drop_duplicates(subset=['x_sp'], inplace=True, ignore_index=True)\n",
    "df_act.drop_duplicates(subset=['y_sp'], inplace=True, ignore_index=True)"
   ]
  },
  {
   "cell_type": "markdown",
   "id": "2f59fb30-e18f-4e9c-a840-85d3e03954eb",
   "metadata": {},
   "source": [
    "### 4. Подготовка итоговых данных и их сохранение"
   ]
  },
  {
   "cell_type": "code",
   "execution_count": 479,
   "id": "6df2dacf-fcc8-45cb-84fc-89edac259949",
   "metadata": {},
   "outputs": [
    {
     "data": {
      "text/html": [
       "<div>\n",
       "<style scoped>\n",
       "    .dataframe tbody tr th:only-of-type {\n",
       "        vertical-align: middle;\n",
       "    }\n",
       "\n",
       "    .dataframe tbody tr th {\n",
       "        vertical-align: top;\n",
       "    }\n",
       "\n",
       "    .dataframe thead th {\n",
       "        text-align: right;\n",
       "    }\n",
       "</style>\n",
       "<table border=\"1\" class=\"dataframe\">\n",
       "  <thead>\n",
       "    <tr style=\"text-align: right;\">\n",
       "      <th></th>\n",
       "      <th>tree_dbh</th>\n",
       "      <th>health</th>\n",
       "      <th>x_sp</th>\n",
       "      <th>y_sp</th>\n",
       "    </tr>\n",
       "  </thead>\n",
       "  <tbody>\n",
       "    <tr>\n",
       "      <th>0</th>\n",
       "      <td>3</td>\n",
       "      <td>Fair</td>\n",
       "      <td>1027431.148</td>\n",
       "      <td>202756.7687</td>\n",
       "    </tr>\n",
       "    <tr>\n",
       "      <th>1</th>\n",
       "      <td>21</td>\n",
       "      <td>Fair</td>\n",
       "      <td>1034455.701</td>\n",
       "      <td>228644.8374</td>\n",
       "    </tr>\n",
       "    <tr>\n",
       "      <th>2</th>\n",
       "      <td>3</td>\n",
       "      <td>Good</td>\n",
       "      <td>1001822.831</td>\n",
       "      <td>200716.8913</td>\n",
       "    </tr>\n",
       "    <tr>\n",
       "      <th>3</th>\n",
       "      <td>10</td>\n",
       "      <td>Good</td>\n",
       "      <td>1002420.358</td>\n",
       "      <td>199244.2531</td>\n",
       "    </tr>\n",
       "    <tr>\n",
       "      <th>4</th>\n",
       "      <td>21</td>\n",
       "      <td>Good</td>\n",
       "      <td>990913.775</td>\n",
       "      <td>182202.4260</td>\n",
       "    </tr>\n",
       "  </tbody>\n",
       "</table>\n",
       "</div>"
      ],
      "text/plain": [
       "   tree_dbh health         x_sp         y_sp\n",
       "0         3   Fair  1027431.148  202756.7687\n",
       "1        21   Fair  1034455.701  228644.8374\n",
       "2         3   Good  1001822.831  200716.8913\n",
       "3        10   Good  1002420.358  199244.2531\n",
       "4        21   Good   990913.775  182202.4260"
      ]
     },
     "execution_count": 479,
     "metadata": {},
     "output_type": "execute_result"
    }
   ],
   "source": [
    "df_act.head()"
   ]
  },
  {
   "cell_type": "code",
   "execution_count": 480,
   "id": "2d392f1b-4ca4-4515-9b2f-5a1c258e1bdf",
   "metadata": {},
   "outputs": [],
   "source": [
    "# Переобозначем классы числовыми метками\n",
    "health_classes = {'Good': 0, 'Fair': 1, 'Poor': 2}\n",
    "df_act.health = df_act.health.map(health_classes)"
   ]
  },
  {
   "cell_type": "markdown",
   "id": "4936a16a-c452-4d87-b314-1026f997b224",
   "metadata": {},
   "source": [
    "- В отличие от изображений, где масштаб интенсивностей пикселей известен заранее, вне зависимости от их природы, например, [0; 255], здесь координаты могут иметь доволь произвольные значения относительно райнов Нью-Йорка, как и диаметр деревьев (хотя последний был ограничен потолком в 40). Поэтому уже здесь отмасштабируем данные к интервалу [0; 1]."
   ]
  },
  {
   "cell_type": "code",
   "execution_count": 481,
   "id": "965855ab-b81c-47dd-9060-b935d8d3f07d",
   "metadata": {},
   "outputs": [],
   "source": [
    "# Масштабируем данные\n",
    "df_act['x_sp'] = minmax_scale(df_act['x_sp'])\n",
    "df_act['y_sp'] = minmax_scale(df_act['y_sp'])\n",
    "df_act['tree_dbh'] = minmax_scale(df_act['tree_dbh'])"
   ]
  },
  {
   "cell_type": "markdown",
   "id": "45c6e33b-3c61-42eb-8b2c-62eec76125d7",
   "metadata": {},
   "source": [
    "- Как ранее указывалось, в данных существует две проблемы - дисбаланс (более 80% это здоровые деревья) классов и сильное смещение значений признаков к какому-либо одному значению (характерно для категориальных). Если второя проблема отсутствует в количественных данных, то для первого случая уместно будет попробовать следующие вещи: помимо разбиения на три класса также рассмотреть разбиение на два класса - 'Good' и 'Fair' + 'Poor'. В таком датасете всё равно сохраниться сильный перекос в сторону класса 'Good', но он уже будет сглаживаться тем, что количество деревьев второго класса увеличилось - 'Fair' + 'Poor'. Также имеет смысл из исходного датасета сделать выборки меньше размера, где количество деревьев, принадлежащих разным классам будет примерно одинаковым. Однако, следует отметить, что это не гарантирует положительного эффекта для обучения, т.к. для такого количества признаков сеть просто может не найти корреляции."
   ]
  },
  {
   "cell_type": "code",
   "execution_count": 482,
   "id": "c7ed014e-5bab-4380-a794-b0b80fd9d8e5",
   "metadata": {},
   "outputs": [],
   "source": [
    "# Создаём второй детесет для двухклассовой классификации - копирем основной и меняем в нём метки классов 2 на 1\n",
    "df_act_2_classes = df_act.copy()\n",
    "df_act_2_classes.health = df_act_2_classes.health.map({0: 0, 1: 1, 2: 1})"
   ]
  },
  {
   "cell_type": "code",
   "execution_count": 483,
   "id": "fb3bdc13-7f69-4a95-bb14-165cd23bc9b8",
   "metadata": {},
   "outputs": [],
   "source": [
    "# преобразовываем слобец 'health' в numpy массив меток классов\n",
    "targets_xy = df_act.health.to_numpy()\n",
    "targets_xy_2_cl = df_act_2_classes.health.to_numpy()"
   ]
  },
  {
   "cell_type": "code",
   "execution_count": 484,
   "id": "21b1e128-f2fe-4264-95c0-4a2ce32e6f13",
   "metadata": {},
   "outputs": [],
   "source": [
    "# преобразовываем слобец 'tree_dbh', содержащий данные о диаметрах деревьев, в numpy массив \n",
    "tree_diam = df_act['tree_dbh'].to_numpy()"
   ]
  },
  {
   "cell_type": "markdown",
   "id": "dc0c15ca-7eff-410c-b7d6-3730d5d084a2",
   "metadata": {},
   "source": [
    "- Здесь создадим ещё один датасет для сети. Это связано с тем, что в существующем датасете мало входных признаков для сети - всего три. Если учесть, как неструктурированно располагаются деревья по городу (см. scatter plot) и то, что диаметр дерева скорее всего никак не связан с его координатами, то не стоит ожидать, что сеть найдёт в этих данных какую-либо зависимость. Поэтом попробуем предположить, что если и есть какие-либо объективные факторы, влияющие на состояние деревьев, то они будут влиять и на ближайших ихб соседей. Поэтому найдём расстояние до 30 (число можно варьировать) ближайших соседей каждого дерева и будем использовать этот датасет для обучения."
   ]
  },
  {
   "cell_type": "code",
   "execution_count": 485,
   "id": "0b6b1c08-89a7-4fca-b648-d182dcb2ad50",
   "metadata": {},
   "outputs": [],
   "source": [
    "# преобразовываем слобец 'tree_dbh', содержащий данные о координатах деревьев, в numpy массив. Затем находим расстояние\n",
    "# до 30 ближайших соседей для каждого дерева. В метод передаётся 31, т.к. само дерево также учитывается и метод всегда будет\n",
    "# выдавать первым значением 0 - его далее исключим\n",
    "xy_nparr = df_act[['x_sp', 'y_sp']].to_numpy()\n",
    "k_neighbors = NearestNeighbors(n_neighbors=31, metric='minkowski', p=2, n_jobs=8)\n",
    "k_neighbors.fit(xy_nparr)\n",
    "dists_data = k_neighbors.kneighbors(xy_nparr)[0]"
   ]
  },
  {
   "cell_type": "code",
   "execution_count": 486,
   "id": "3a6d9e5c-cdbd-497d-85d8-9b4cc663f684",
   "metadata": {},
   "outputs": [],
   "source": [
    "# удаляем нули - расстояние дерева до самого себя\n",
    "dists_data = np.delete(dists_data, 0, axis=1)"
   ]
  },
  {
   "cell_type": "code",
   "execution_count": 487,
   "id": "893d2795-98ce-4abd-ad07-45ef06bf7744",
   "metadata": {},
   "outputs": [],
   "source": [
    "# формаруем данные в массивы соответствующих размерностей и типов\n",
    "xy_diam_data = np.concatenate((xy_nparr, tree_diam[:, np.newaxis]), axis=1)\n",
    "xy_diam_data = xy_diam_data.astype(dtype=np.float32)\n",
    "dists_data = dists_data.astype(dtype=np.float32)"
   ]
  },
  {
   "cell_type": "code",
   "execution_count": 488,
   "id": "f497ed27-65f7-43bc-9a74-a41b9cfebd22",
   "metadata": {},
   "outputs": [],
   "source": [
    "# директория для сохранения данных\n",
    "os.chdir(r'D:\\projects_my\\data_test')"
   ]
  },
  {
   "cell_type": "code",
   "execution_count": 489,
   "id": "b97c0c82-25ef-4e08-a475-80a77184a50e",
   "metadata": {},
   "outputs": [
    {
     "data": {
      "text/plain": [
       "(646252,)"
      ]
     },
     "execution_count": 489,
     "metadata": {},
     "output_type": "execute_result"
    }
   ],
   "source": [
    "targets_xy.shape"
   ]
  },
  {
   "cell_type": "code",
   "execution_count": 490,
   "id": "728e4e71-f78c-44a3-ba36-0f54b682af26",
   "metadata": {},
   "outputs": [],
   "source": [
    "# разбиваем данные на тренировочные и тестовые для случая трёх классовых меток\n",
    "tr_xyd_3_cl, test_xyd_3_cl, tr_target_xyd_3_cl, test_target_xyd_3_cl = train_test_split(xy_diam_data, targets_xy, train_size=0.8, test_size=0.2)\n",
    "tr_dists_3_cl, test_dists_3_cl, tr_target_dists_3_cl, test_target_dists_3_cl = train_test_split(dists_data, targets_xy, train_size=0.8, test_size=0.2)"
   ]
  },
  {
   "cell_type": "code",
   "execution_count": 491,
   "id": "091ebd7b-5ca8-4085-ba16-0aea59846eb7",
   "metadata": {},
   "outputs": [],
   "source": [
    "# разбиваем данные на тренировочные и тестовые для случая двух классовых меток\n",
    "tr_xyd_2_cl, test_xyd_2_cl, tr_target_xyd_2_cl, test_target_xyd_2_cl = train_test_split(xy_diam_data, targets_xy_2_cl, train_size=0.8, test_size=0.2)\n",
    "tr_dists_2_cl, test_dists_2_cl, tr_target_dists_2_cl, test_target_dists_2_cl = train_test_split(dists_data, targets_xy_2_cl, train_size=0.8, test_size=0.2)"
   ]
  },
  {
   "cell_type": "code",
   "execution_count": 492,
   "id": "c6fa2c29-ae03-40a4-9df0-58caa09579d8",
   "metadata": {},
   "outputs": [],
   "source": [
    "import time"
   ]
  },
  {
   "cell_type": "markdown",
   "id": "c4a9c780-f40f-4857-99ed-f811a6645aa2",
   "metadata": {},
   "source": [
    "- Сохраняем результаты - координаты с диаметрами, расстояния и категориальные данные - для случая трёх классов. Здесь данные сохраняются следующим образом: в папку с названием, соответствующим номеру класса, данные об одном дереве сохраняются один файлом"
   ]
  },
  {
   "cell_type": "code",
   "execution_count": 785,
   "id": "a9d2209b-c974-4a23-a2ec-d88fda7179f4",
   "metadata": {},
   "outputs": [
    {
     "data": {
      "text/plain": [
       "148.0012948513031"
      ]
     },
     "execution_count": 785,
     "metadata": {},
     "output_type": "execute_result"
    }
   ],
   "source": [
    "t1 = time.time()\n",
    "for cl_label in range(tr_target_xyd_3_cl.max() + 1): \n",
    "    if not os.path.exists(r'./datasets/xyd_3_classes/train/{}'.format(cl_label)):\n",
    "        os.mkdir(r'./datasets/xyd_3_classes/train/{}'.format(cl_label))\n",
    "    inds = np.where(tr_target_xyd_3_cl == cl_label)[0]\n",
    "    for i in inds:#range(tr_xyd_3_cl.shape[0]):#inds:\n",
    "        #if tr_target_xyd_3_cl[i] == cl_label:\n",
    "            with open(r'./datasets/xyd_3_classes/train/{}/xyd_id_{}.npy'.format(cl_label, i), 'wb') as f:\n",
    "                np.save(f, tr_xyd_3_cl[i])\n",
    "        \n",
    "for cl_label in range(test_target_xyd_3_cl.max() + 1): \n",
    "    if not os.path.exists(r'./datasets/xyd_3_classes/test/{}'.format(cl_label)):\n",
    "        os.mkdir(r'./datasets/xyd_3_classes/test/{}'.format(cl_label))\n",
    "    inds = np.where(test_target_xyd_3_cl == cl_label)[0]\n",
    "    for i in inds:#range(test_xyd_3_cl.shape[0]):#inds:\n",
    "        #if test_target_xyd_3_cl[i] == cl_label:\n",
    "            with open(r'./datasets/xyd_3_classes/test/{}/xyd_id_{}.npy'.format(cl_label, i), 'wb') as f:\n",
    "                np.save(f, test_xyd_3_cl[i])\n",
    "time.time() - t1"
   ]
  },
  {
   "cell_type": "code",
   "execution_count": 786,
   "id": "3984a7ee-7fd3-4486-8e9e-d5a2080500b1",
   "metadata": {},
   "outputs": [
    {
     "data": {
      "text/plain": [
       "168.50161862373352"
      ]
     },
     "execution_count": 786,
     "metadata": {},
     "output_type": "execute_result"
    }
   ],
   "source": [
    "t1 = time.time()\n",
    "for cl_label in range(tr_target_dists_3_cl.max() + 1): \n",
    "    if not os.path.exists(r'./datasets/dists_3_classes/train/{}'.format(cl_label)):\n",
    "        os.mkdir(r'./datasets/dists_3_classes/train/{}'.format(cl_label))\n",
    "    inds = np.where(tr_target_dists_3_cl == cl_label)[0]\n",
    "    for i in inds:#range(tr_xyd_3_cl.shape[0]):#inds:\n",
    "        #if tr_target_xyd_3_cl[i] == cl_label:\n",
    "            with open(r'./datasets/dists_3_classes/train/{}/dists_id_{}.npy'.format(cl_label, i), 'wb') as f:\n",
    "                np.save(f, tr_dists_3_cl[i])\n",
    "        \n",
    "for cl_label in range(test_target_dists_3_cl.max() + 1): \n",
    "    if not os.path.exists(r'./datasets/dists_3_classes/test/{}'.format(cl_label)):\n",
    "        os.mkdir(r'./datasets/dists_3_classes/test/{}'.format(cl_label))\n",
    "    inds = np.where(test_target_dists_3_cl == cl_label)[0]\n",
    "    for i in inds:#range(test_xyd_3_cl.shape[0]):#inds:\n",
    "        #if test_target_xyd_3_cl[i] == cl_label:\n",
    "            with open(r'./datasets/dists_3_classes/test/{}/dists_id_{}.npy'.format(cl_label, i), 'wb') as f:\n",
    "                np.save(f, test_dists_3_cl[i])\n",
    "time.time() - t1"
   ]
  },
  {
   "cell_type": "markdown",
   "id": "e73cddc1-bcf5-494b-a80b-a503b5f375dd",
   "metadata": {},
   "source": [
    "Тоже самое, но для случая двух классов"
   ]
  },
  {
   "cell_type": "code",
   "execution_count": 787,
   "id": "d453e1c6-6bcd-47da-8184-9bb0df74ef75",
   "metadata": {},
   "outputs": [
    {
     "data": {
      "text/plain": [
       "186.61753726005554"
      ]
     },
     "execution_count": 787,
     "metadata": {},
     "output_type": "execute_result"
    }
   ],
   "source": [
    "t1 = time.time()\n",
    "for cl_label in range(tr_target_xyd_2_cl.max() + 1): \n",
    "    if not os.path.exists(r'./datasets/xyd_2_classes/train/{}'.format(cl_label)):\n",
    "        os.mkdir(r'./datasets/xyd_2_classes/train/{}'.format(cl_label))\n",
    "    inds = np.where(tr_target_xyd_2_cl == cl_label)[0]\n",
    "    for i in inds:#range(tr_xyd_2_cl.shape[0]):#inds:\n",
    "        #if tr_target_xyd_2_cl[i] == cl_label:\n",
    "            with open(r'./datasets/xyd_2_classes/train/{}/xyd_id_{}.npy'.format(cl_label, i), 'wb') as f:\n",
    "                np.save(f, tr_xyd_2_cl[i])\n",
    "        \n",
    "for cl_label in range(test_target_xyd_2_cl.max() + 1): \n",
    "    if not os.path.exists(r'./datasets/xyd_2_classes/test/{}'.format(cl_label)):\n",
    "        os.mkdir(r'./datasets/xyd_2_classes/test/{}'.format(cl_label))\n",
    "    inds = np.where(test_target_xyd_2_cl == cl_label)[0]\n",
    "    for i in inds:#range(test_xyd_2_cl.shape[0]):#inds:\n",
    "        #if test_target_xyd_2_cl[i] == cl_label:\n",
    "            with open(r'./datasets/xyd_2_classes/test/{}/xyd_id_{}.npy'.format(cl_label, i), 'wb') as f:\n",
    "                np.save(f, test_xyd_2_cl[i])\n",
    "time.time() - t1"
   ]
  },
  {
   "cell_type": "code",
   "execution_count": 788,
   "id": "f8a52f52-36e7-4ac2-9eac-bedfd4a41ef5",
   "metadata": {},
   "outputs": [
    {
     "data": {
      "text/plain": [
       "180.3736011981964"
      ]
     },
     "execution_count": 788,
     "metadata": {},
     "output_type": "execute_result"
    }
   ],
   "source": [
    "t1 = time.time()\n",
    "for cl_label in range(tr_target_dists_2_cl.max() + 1): \n",
    "    if not os.path.exists(r'./datasets/dists_2_classes/train/{}'.format(cl_label)):\n",
    "        os.mkdir(r'./datasets/dists_2_classes/train/{}'.format(cl_label))\n",
    "    inds = np.where(tr_target_dists_2_cl == cl_label)[0]\n",
    "    for i in inds:#range(tr_xyd_2_cl.shape[0]):#inds:\n",
    "        #if tr_target_xyd_2_cl[i] == cl_label:\n",
    "            with open(r'./datasets/dists_2_classes/train/{}/dists_id_{}.npy'.format(cl_label, i), 'wb') as f:\n",
    "                np.save(f, tr_dists_2_cl[i])\n",
    "        \n",
    "for cl_label in range(test_target_dists_2_cl.max() + 1): \n",
    "    if not os.path.exists(r'./datasets/dists_2_classes/test/{}'.format(cl_label)):\n",
    "        os.mkdir(r'./datasets/dists_2_classes/test/{}'.format(cl_label))\n",
    "    inds = np.where(test_target_dists_2_cl == cl_label)[0]\n",
    "    for i in inds:#range(test_xyd_2_cl.shape[0]):#inds:\n",
    "        #if test_target_xyd_2_cl[i] == cl_label:\n",
    "            with open(r'./datasets/dists_2_classes/test/{}/dists_id_{}.npy'.format(cl_label, i), 'wb') as f:\n",
    "                np.save(f, test_dists_2_cl[i])\n",
    "time.time() - t1"
   ]
  },
  {
   "cell_type": "markdown",
   "id": "55c9f9d5-566b-4254-8624-cd6b8d64ed6e",
   "metadata": {},
   "source": [
    "- Здесь сохраним те же данные, но одним файлом, соответствующим классу. Класс Dataset будет реализован таким образом, что сможет работать как с одним сохранённым файлом, так и с множеством. Это делается с целью ускорения обучения сети, т.к. размер данных небольшой и их можно сразу хранить в ОЗУ. "
   ]
  },
  {
   "cell_type": "code",
   "execution_count": 789,
   "id": "0e600e5e-a526-434c-b77f-28f829a0f1ff",
   "metadata": {},
   "outputs": [
    {
     "data": {
      "text/plain": [
       "0.3371005058288574"
      ]
     },
     "execution_count": 789,
     "metadata": {},
     "output_type": "execute_result"
    }
   ],
   "source": [
    "t1 = time.time()\n",
    "for cl_label in range(tr_target_xyd_3_cl.max() + 1): \n",
    "    if not os.path.exists(r'./datasets/one_file/xyd_3_classes/train/{}'.format(cl_label)):\n",
    "        os.mkdir(r'./datasets/one_file/xyd_3_classes/train/{}'.format(cl_label))\n",
    "    inds = np.where(tr_target_xyd_3_cl == cl_label)[0]\n",
    "    with open(r'./datasets/one_file/xyd_3_classes/train/{}/xyd_id_{}.npy'.format(cl_label, i), 'wb') as f:\n",
    "        np.save(f, tr_xyd_3_cl[inds])\n",
    "        \n",
    "for cl_label in range(test_target_xyd_3_cl.max() + 1): \n",
    "    if not os.path.exists(r'./datasets/one_file/xyd_3_classes/test/{}'.format(cl_label)):\n",
    "        os.mkdir(r'./datasets/one_file/xyd_3_classes/test/{}'.format(cl_label))\n",
    "    inds = np.where(test_target_xyd_3_cl == cl_label)[0]\n",
    "    with open(r'./datasets/one_file/xyd_3_classes/test/{}/xyd_id_{}.npy'.format(cl_label, i), 'wb') as f:\n",
    "        np.save(f, test_xyd_3_cl[inds])\n",
    "time.time() - t1\n",
    "\n",
    "t1 = time.time()\n",
    "for cl_label in range(tr_target_dists_3_cl.max() + 1): \n",
    "    if not os.path.exists(r'./datasets/one_file/dists_3_classes/train/{}'.format(cl_label)):\n",
    "        os.mkdir(r'./datasets/one_file/dists_3_classes/train/{}'.format(cl_label))\n",
    "    inds = np.where(tr_target_dists_3_cl == cl_label)[0]\n",
    "    with open(r'./datasets/one_file/dists_3_classes/train/{}/dists_id_{}.npy'.format(cl_label, i), 'wb') as f:\n",
    "        np.save(f, tr_dists_3_cl[inds])\n",
    "        \n",
    "for cl_label in range(test_target_dists_3_cl.max() + 1): \n",
    "    if not os.path.exists(r'./datasets/one_file/dists_3_classes/test/{}'.format(cl_label)):\n",
    "        os.mkdir(r'./datasets/one_file/dists_3_classes/test/{}'.format(cl_label))\n",
    "    inds = np.where(test_target_dists_3_cl == cl_label)[0]\n",
    "    with open(r'./datasets/one_file/dists_3_classes/test/{}/dists_id_{}.npy'.format(cl_label, i), 'wb') as f:\n",
    "        np.save(f, test_dists_3_cl[inds])\n",
    "time.time() - t1\n",
    "###################################################\n",
    "t1 = time.time()\n",
    "for cl_label in range(tr_target_xyd_2_cl.max() + 1): \n",
    "    if not os.path.exists(r'./datasets/one_file/xyd_2_classes/train/{}'.format(cl_label)):\n",
    "        os.mkdir(r'./datasets/one_file/xyd_2_classes/train/{}'.format(cl_label))\n",
    "    inds = np.where(tr_target_xyd_2_cl == cl_label)[0]\n",
    "    with open(r'./datasets/one_file/xyd_2_classes/train/{}/xyd_id_{}.npy'.format(cl_label, i), 'wb') as f:\n",
    "        np.save(f, tr_xyd_2_cl[inds])\n",
    "        \n",
    "for cl_label in range(test_target_xyd_2_cl.max() + 1): \n",
    "    if not os.path.exists(r'./datasets/one_file/xyd_2_classes/test/{}'.format(cl_label)):\n",
    "        os.mkdir(r'./datasets/one_file/xyd_2_classes/test/{}'.format(cl_label))\n",
    "    inds = np.where(test_target_xyd_2_cl == cl_label)[0]\n",
    "    with open(r'./datasets/one_file/xyd_2_classes/test/{}/xyd_id_{}.npy'.format(cl_label, i), 'wb') as f:\n",
    "        np.save(f, test_xyd_2_cl[inds])\n",
    "time.time() - t1\n",
    "\n",
    "t1 = time.time()\n",
    "for cl_label in range(tr_target_dists_2_cl.max() + 1): \n",
    "    if not os.path.exists(r'./datasets/one_file/dists_2_classes/train/{}'.format(cl_label)):\n",
    "        os.mkdir(r'./datasets/one_file/dists_2_classes/train/{}'.format(cl_label))\n",
    "    inds = np.where(tr_target_dists_2_cl == cl_label)[0]\n",
    "    with open(r'./datasets/one_file/dists_2_classes/train/{}/dists_id_{}.npy'.format(cl_label, i), 'wb') as f:\n",
    "        np.save(f, tr_dists_2_cl[inds])\n",
    "        \n",
    "for cl_label in range(test_target_dists_2_cl.max() + 1): \n",
    "    if not os.path.exists(r'./datasets/one_file/dists_2_classes/test/{}'.format(cl_label)):\n",
    "        os.mkdir(r'./datasets/one_file/dists_2_classes/test/{}'.format(cl_label))\n",
    "    inds = np.where(test_target_dists_2_cl == cl_label)[0]\n",
    "    with open(r'./datasets/one_file/dists_2_classes/test/{}/dists_id_{}.npy'.format(cl_label, i), 'wb') as f:\n",
    "        np.save(f, test_dists_2_cl[inds])\n",
    "time.time() - t1"
   ]
  },
  {
   "cell_type": "markdown",
   "id": "edc9f26e-0151-4bab-9af6-55cbe710034a",
   "metadata": {},
   "source": [
    "- Далее проделывается та же процедура формирования и сохранения данных, но для случая сбалансированных классов."
   ]
  },
  {
   "cell_type": "code",
   "execution_count": 495,
   "id": "dc9afc05-9543-49bb-b96a-179dc8aaf838",
   "metadata": {},
   "outputs": [],
   "source": [
    "# создаются примерно равные выборки из основного датасета для каждого класса\n",
    "temp_sample_0_3cl = df_act[['health', 'tree_dbh', 'x_sp', 'y_sp']][df_act.health == 0].sample(df_act.health[df_act.health == 2].shape[0] + 3000)\n",
    "temp_sample_1_3cl = df_act[['health', 'tree_dbh', 'x_sp', 'y_sp']][df_act.health == 1].sample(df_act.health[df_act.health == 2].shape[0] + 1000)\n",
    "temp_sample_2_3cl = df_act[['health', 'tree_dbh', 'x_sp', 'y_sp']][df_act.health == 2]\n",
    "\n",
    "temp_sample_0_2cl = df_act_2_classes[['health', 'tree_dbh', 'x_sp', 'y_sp']][df_act_2_classes.health == 0].sample(df_act_2_classes.health[df_act_2_classes.health == 1].shape[0] + 11000)\n",
    "temp_sample_1_2cl = df_act_2_classes[['health', 'tree_dbh', 'x_sp', 'y_sp']][df_act_2_classes.health == 1]"
   ]
  },
  {
   "cell_type": "code",
   "execution_count": 496,
   "id": "d6fa653b-7caa-470a-ab55-933df92d9107",
   "metadata": {},
   "outputs": [],
   "source": [
    "# создаются новые датасеты для случаем трёх и двух целевых классов\n",
    "df_3cl_balanced = pd.concat([temp_sample_0_3cl, temp_sample_1_3cl, temp_sample_2_3cl], ignore_index=True)\n",
    "df_2cl_balanced = pd.concat([temp_sample_0_2cl, temp_sample_1_2cl], ignore_index=True)"
   ]
  },
  {
   "cell_type": "code",
   "execution_count": 497,
   "id": "2f07c250-3673-4f96-94bf-bc0ad3dddeb1",
   "metadata": {},
   "outputs": [],
   "source": [
    "# создаются numpy массивы с целевыми метками\n",
    "targets_xy_bal = df_3cl_balanced.health.to_numpy()\n",
    "targets_xy_2_cl_bal = df_2cl_balanced.health.to_numpy()"
   ]
  },
  {
   "cell_type": "code",
   "execution_count": 498,
   "id": "c1f4b05a-750b-47f2-a7f8-7270a2e38ce3",
   "metadata": {},
   "outputs": [],
   "source": [
    "# создаются numpy массивы координат деревьев и их диаметров\n",
    "tree_diam_3cl_bal = df_3cl_balanced['tree_dbh'].to_numpy()\n",
    "tree_diam_2cl_bal = df_2cl_balanced['tree_dbh'].to_numpy()\n",
    "\n",
    "xy_nparr_3cl_bal = df_3cl_balanced[['x_sp', 'y_sp']].to_numpy()\n",
    "xy_nparr_2cl_bal = df_2cl_balanced[['x_sp', 'y_sp']].to_numpy()"
   ]
  },
  {
   "cell_type": "code",
   "execution_count": 499,
   "id": "85ed6480-b6d1-4604-bf45-614c1e4beeab",
   "metadata": {},
   "outputs": [],
   "source": [
    "# поиск 30 ближайших соседей\n",
    "k_neighbors_3cl_bal = NearestNeighbors(n_neighbors=31, metric='minkowski', p=2, n_jobs=8)\n",
    "k_neighbors_3cl_bal.fit(xy_nparr_3cl_bal)\n",
    "dists_arr_3cl_bal = k_neighbors_3cl_bal.kneighbors(xy_nparr_3cl_bal)[0]\n",
    "\n",
    "k_neighbors_2cl_bal = NearestNeighbors(n_neighbors=31, metric='minkowski', p=2, n_jobs=8)\n",
    "k_neighbors_2cl_bal.fit(xy_nparr_2cl_bal)\n",
    "dists_arr_2cl_bal = k_neighbors_2cl_bal.kneighbors(xy_nparr_2cl_bal)[0]"
   ]
  },
  {
   "cell_type": "code",
   "execution_count": 500,
   "id": "59f2fd7f-99a8-4d87-831f-49cf677cd7c2",
   "metadata": {},
   "outputs": [],
   "source": [
    "# удаление расстояний до самих себя\n",
    "dists_arr_3cl_bal = np.delete(dists_arr_3cl_bal, 0, axis=1)\n",
    "dists_arr_2cl_bal = np.delete(dists_arr_2cl_bal, 0, axis=1)"
   ]
  },
  {
   "cell_type": "code",
   "execution_count": 501,
   "id": "751cfbf9-de0e-41b2-9438-329517cb0458",
   "metadata": {},
   "outputs": [],
   "source": [
    "# формаруем данные в массивы соответствующих размерностей и типов\n",
    "xyd_3cl_bal_data = np.concatenate((xy_nparr_3cl_bal, tree_diam_3cl_bal[:, np.newaxis]), axis=1)\n",
    "xyd_3cl_bal_data = xyd_3cl_bal_data.astype(dtype=np.float32)\n",
    "dists_3cl_bal_data = dists_arr_3cl_bal.astype(dtype=np.float32)\n",
    "\n",
    "xyd_2cl_bal_data = np.concatenate((xy_nparr_2cl_bal, tree_diam_2cl_bal[:, np.newaxis]), axis=1)\n",
    "xyd_2cl_bal_data = xyd_2cl_bal_data.astype(dtype=np.float32)\n",
    "dists_2cl_bal_data = dists_arr_2cl_bal.astype(dtype=np.float32)"
   ]
  },
  {
   "cell_type": "code",
   "execution_count": 502,
   "id": "72e5fa54-43f0-4a40-b979-69c845936e82",
   "metadata": {},
   "outputs": [],
   "source": [
    "# разбиваем данные на тренировочные и тестовые для случая трёх классовых меток\n",
    "tr_xyd_3cl_bal, test_xyd_3cl_bal, tr_target_xyd_3cl_bal, test_target_xyd_3cl_bal = train_test_split(xyd_3cl_bal_data, targets_xy_bal, train_size=0.8, test_size=0.2)\n",
    "tr_dists_3cl_bal, test_dists_3cl_bal, tr_target_dists_3cl_bal, test_target_dists_3cl_bal = train_test_split(dists_3cl_bal_data, targets_xy_bal, train_size=0.8, test_size=0.2)"
   ]
  },
  {
   "cell_type": "code",
   "execution_count": 503,
   "id": "e0c753a9-14ac-442e-bdc3-1773dfc97b1f",
   "metadata": {},
   "outputs": [],
   "source": [
    "# разбиваем данные на тренировочные и тестовые для случая двух классовых меток\n",
    "tr_xyd_2cl_bal, test_xyd_2cl_bal, tr_target_xyd_2cl_bal, test_target_xyd_2cl_bal = train_test_split(xyd_2cl_bal_data, targets_xy_2_cl_bal, train_size=0.8, test_size=0.2)\n",
    "tr_dists_2cl_bal, test_dists_2cl_bal, tr_target_dists_2cl_bal, test_target_dists_2cl_bal = train_test_split(dists_2cl_bal_data, targets_xy_2_cl_bal, train_size=0.8, test_size=0.2)"
   ]
  },
  {
   "cell_type": "markdown",
   "id": "a2412de8-eeec-4689-8cc3-8a3296c6081a",
   "metadata": {},
   "source": [
    "- Сохраняем результаты - координаты с диаметрами, расстояния и категориальные данные - для случая трёх сбалансированных классов. Здесь данные сохраняются следующим образом: в папку с названием, соответствующим номеру класса, данные об одном дереве сохраняются один файлом"
   ]
  },
  {
   "cell_type": "code",
   "execution_count": 790,
   "id": "2bebfbcd-16f3-4319-a30b-855e8402d8cf",
   "metadata": {},
   "outputs": [
    {
     "data": {
      "text/plain": [
       "25.56549882888794"
      ]
     },
     "execution_count": 790,
     "metadata": {},
     "output_type": "execute_result"
    }
   ],
   "source": [
    "t1 = time.time()\n",
    "for cl_label in range(tr_target_xyd_3cl_bal.max() + 1): \n",
    "    if not os.path.exists(r'./datasets/xyd_3_classes_balanced/train/{}'.format(cl_label)):\n",
    "        os.mkdir(r'./datasets/xyd_3_classes_balanced/train/{}'.format(cl_label))\n",
    "    inds = np.where(tr_target_xyd_3cl_bal == cl_label)[0]\n",
    "    for i in inds:#range(tr_xyd_3_cl.shape[0]):#inds:\n",
    "        #if tr_target_xyd_3_cl[i] == cl_label:\n",
    "            with open(r'./datasets/xyd_3_classes_balanced/train/{}/xyd_id_{}.npy'.format(cl_label, i), 'wb') as f:\n",
    "                np.save(f, tr_xyd_3cl_bal[i])\n",
    "        \n",
    "for cl_label in range(test_target_xyd_3cl_bal.max() + 1): \n",
    "    if not os.path.exists(r'./datasets/xyd_3_classes_balanced/test/{}'.format(cl_label)):\n",
    "        os.mkdir(r'./datasets/xyd_3_classes_balanced/test/{}'.format(cl_label))\n",
    "    inds = np.where(test_target_xyd_3cl_bal == cl_label)[0]\n",
    "    for i in inds:#range(test_xyd_3_cl.shape[0]):#inds:\n",
    "        #if test_target_xyd_3_cl[i] == cl_label:\n",
    "            with open(r'./datasets/xyd_3_classes_balanced/test/{}/xyd_id_{}.npy'.format(cl_label, i), 'wb') as f:\n",
    "                np.save(f, test_xyd_3cl_bal[i])\n",
    "time.time() - t1"
   ]
  },
  {
   "cell_type": "code",
   "execution_count": 791,
   "id": "67fe8c48-7d2e-4af1-9f88-76d7dc6a8596",
   "metadata": {},
   "outputs": [
    {
     "data": {
      "text/plain": [
       "33.998467206954956"
      ]
     },
     "execution_count": 791,
     "metadata": {},
     "output_type": "execute_result"
    }
   ],
   "source": [
    "t1 = time.time()\n",
    "for cl_label in range(tr_target_dists_3cl_bal.max() + 1): \n",
    "    if not os.path.exists(r'./datasets/dists_3_classes_balanced/train/{}'.format(cl_label)):\n",
    "        os.mkdir(r'./datasets/dists_3_classes_balanced/train/{}'.format(cl_label))\n",
    "    inds = np.where(tr_target_dists_3cl_bal == cl_label)[0]\n",
    "    for i in inds:#range(tr_xyd_3_cl.shape[0]):#inds:\n",
    "        #if tr_target_xyd_3_cl[i] == cl_label:\n",
    "            with open(r'./datasets/dists_3_classes_balanced/train/{}/dists_id_{}.npy'.format(cl_label, i), 'wb') as f:\n",
    "                np.save(f, tr_dists_3cl_bal[i])\n",
    "        \n",
    "for cl_label in range(test_target_dists_2cl_bal.max() + 1): \n",
    "    if not os.path.exists(r'./datasets/dists_3_classes_balanced/test/{}'.format(cl_label)):\n",
    "        os.mkdir(r'./datasets/dists_3_classes_balanced/test/{}'.format(cl_label))\n",
    "    inds = np.where(test_target_dists_2cl_bal == cl_label)[0]\n",
    "    for i in inds:#range(test_xyd_3_cl.shape[0]):#inds:\n",
    "        #if test_target_xyd_3_cl[i] == cl_label:\n",
    "            with open(r'./datasets/dists_3_classes_balanced/test/{}/dists_id_{}.npy'.format(cl_label, i), 'wb') as f:\n",
    "                np.save(f, test_dists_2cl_bal[i])\n",
    "time.time() - t1"
   ]
  },
  {
   "cell_type": "markdown",
   "id": "156619cd-7477-4b5b-8df7-ed33dcf85818",
   "metadata": {},
   "source": [
    "Тоже самое, но для случая двух классов"
   ]
  },
  {
   "cell_type": "code",
   "execution_count": 792,
   "id": "0aa3ad6c-66c4-4229-9173-64e1e119efe2",
   "metadata": {},
   "outputs": [
    {
     "data": {
      "text/plain": [
       "73.92236757278442"
      ]
     },
     "execution_count": 792,
     "metadata": {},
     "output_type": "execute_result"
    }
   ],
   "source": [
    "t1 = time.time()\n",
    "for cl_label in range(tr_target_xyd_2cl_bal.max() + 1): \n",
    "    if not os.path.exists(r'./datasets/xyd_2_classes_balanced/train/{}'.format(cl_label)):\n",
    "        os.mkdir(r'./datasets/xyd_2_classes_balanced/train/{}'.format(cl_label))\n",
    "    inds = np.where(tr_target_xyd_2cl_bal == cl_label)[0]\n",
    "    for i in inds:#range(tr_xyd_2_cl.shape[0]):#inds:\n",
    "        #if tr_target_xyd_2_cl[i] == cl_label:\n",
    "            with open(r'./datasets/xyd_2_classes_balanced/train/{}/xyd_id_{}.npy'.format(cl_label, i), 'wb') as f:\n",
    "                np.save(f, tr_xyd_2cl_bal[i])\n",
    "        \n",
    "for cl_label in range(test_target_xyd_2cl_bal.max() + 1): \n",
    "    if not os.path.exists(r'./datasets/xyd_2_classes_balanced/test/{}'.format(cl_label)):\n",
    "        os.mkdir(r'./datasets/xyd_2_classes_balanced/test/{}'.format(cl_label))\n",
    "    inds = np.where(test_target_xyd_2cl_bal == cl_label)[0]\n",
    "    for i in inds:#range(test_xyd_2_cl.shape[0]):#inds:\n",
    "        #if test_target_xyd_2_cl[i] == cl_label:\n",
    "            with open(r'./datasets/xyd_2_classes_balanced/test/{}/xyd_id_{}.npy'.format(cl_label, i), 'wb') as f:\n",
    "                np.save(f, test_xyd_2cl_bal[i])\n",
    "time.time() - t1"
   ]
  },
  {
   "cell_type": "code",
   "execution_count": 793,
   "id": "9990bc7c-3ea6-4f9f-899e-686302a15449",
   "metadata": {},
   "outputs": [
    {
     "data": {
      "text/plain": [
       "69.01566505432129"
      ]
     },
     "execution_count": 793,
     "metadata": {},
     "output_type": "execute_result"
    }
   ],
   "source": [
    "t1 = time.time()\n",
    "for cl_label in range(tr_target_dists_2cl_bal.max() + 1): \n",
    "    if not os.path.exists(r'./datasets/dists_2_classes_balanced/train/{}'.format(cl_label)):\n",
    "        os.mkdir(r'./datasets/dists_2_classes_balanced/train/{}'.format(cl_label))\n",
    "    inds = np.where(tr_target_dists_2cl_bal == cl_label)[0]\n",
    "    for i in inds:#range(tr_xyd_2_cl.shape[0]):#inds:\n",
    "        #if tr_target_xyd_2_cl[i] == cl_label:\n",
    "            with open(r'./datasets/dists_2_classes_balanced/train/{}/dists_id_{}.npy'.format(cl_label, i), 'wb') as f:\n",
    "                np.save(f, tr_dists_2cl_bal[i])\n",
    "        \n",
    "for cl_label in range(test_target_dists_2cl_bal.max() + 1): \n",
    "    if not os.path.exists(r'./datasets/dists_2_classes_balanced/test/{}'.format(cl_label)):\n",
    "        os.mkdir(r'./datasets/dists_2_classes_balanced/test/{}'.format(cl_label))\n",
    "    inds = np.where(test_target_dists_2cl_bal == cl_label)[0]\n",
    "    for i in inds:#range(test_xyd_2_cl.shape[0]):#inds:\n",
    "        #if test_target_xyd_2_cl[i] == cl_label:\n",
    "            with open(r'./datasets/dists_2_classes_balanced/test/{}/dists_id_{}.npy'.format(cl_label, i), 'wb') as f:\n",
    "                np.save(f, test_dists_2cl_bal[i])\n",
    "time.time() - t1"
   ]
  },
  {
   "cell_type": "markdown",
   "id": "38c10de9-ca84-48d4-a9c6-16ac3b6c3e74",
   "metadata": {},
   "source": [
    "- Здесь сохраним те же данные, но одним файлом, соответствующим классу. "
   ]
  },
  {
   "cell_type": "code",
   "execution_count": 794,
   "id": "ca2bfbc3-ee90-463d-939f-bed006948344",
   "metadata": {},
   "outputs": [
    {
     "data": {
      "text/plain": [
       "0.05423402786254883"
      ]
     },
     "execution_count": 794,
     "metadata": {},
     "output_type": "execute_result"
    }
   ],
   "source": [
    "t1 = time.time()\n",
    "for cl_label in range(tr_target_xyd_3cl_bal.max() + 1): \n",
    "    if not os.path.exists(r'./datasets/one_file/xyd_3_classes_balanced/train/{}'.format(cl_label)):\n",
    "        os.mkdir(r'./datasets/one_file/xyd_3_classes_balanced/train/{}'.format(cl_label))\n",
    "    inds = np.where(tr_target_xyd_3cl_bal == cl_label)[0]\n",
    "    with open(r'./datasets/one_file/xyd_3_classes_balanced/train/{}/xyd_id_{}.npy'.format(cl_label, i), 'wb') as f:\n",
    "        np.save(f, tr_xyd_3cl_bal[inds])\n",
    "        \n",
    "for cl_label in range(test_target_xyd_3cl_bal.max() + 1): \n",
    "    if not os.path.exists(r'./datasets/one_file/xyd_3_classes_balanced/test/{}'.format(cl_label)):\n",
    "        os.mkdir(r'./datasets/one_file/xyd_3_classes_balanced/test/{}'.format(cl_label))\n",
    "    inds = np.where(test_target_xyd_3cl_bal == cl_label)[0]\n",
    "    with open(r'./datasets/one_file/xyd_3_classes_balanced/test/{}/xyd_id_{}.npy'.format(cl_label, i), 'wb') as f:\n",
    "        np.save(f, test_xyd_3cl_bal[inds])\n",
    "time.time() - t1\n",
    "\n",
    "t1 = time.time()\n",
    "for cl_label in range(tr_target_dists_3cl_bal.max() + 1): \n",
    "    if not os.path.exists(r'./datasets/one_file/dists_3_classes_balanced/train/{}'.format(cl_label)):\n",
    "        os.mkdir(r'./datasets/one_file/dists_3_classes_balanced/train/{}'.format(cl_label))\n",
    "    inds = np.where(tr_target_dists_3cl_bal == cl_label)[0]\n",
    "    with open(r'./datasets/one_file/dists_3_classes_balanced/train/{}/dists_id_{}.npy'.format(cl_label, i), 'wb') as f:\n",
    "        np.save(f, tr_dists_3cl_bal[inds])\n",
    "        \n",
    "for cl_label in range(test_target_dists_2cl_bal.max() + 1): \n",
    "    if not os.path.exists(r'./datasets/one_file/dists_3_classes_balanced/test/{}'.format(cl_label)):\n",
    "        os.mkdir(r'./datasets/one_file/dists_3_classes_balanced/test/{}'.format(cl_label))\n",
    "    inds = np.where(test_target_dists_2cl_bal == cl_label)[0]\n",
    "    with open(r'./datasets/one_file/dists_3_classes_balanced/test/{}/dists_id_{}.npy'.format(cl_label, i), 'wb') as f:\n",
    "        np.save(f, test_dists_2cl_bal[inds])\n",
    "time.time() - t1\n",
    "###################################################\n",
    "t1 = time.time()\n",
    "for cl_label in range(tr_target_xyd_2cl_bal.max() + 1): \n",
    "    if not os.path.exists(r'./datasets/one_file/xyd_2_classes_balanced/train/{}'.format(cl_label)):\n",
    "        os.mkdir(r'./datasets/one_file/xyd_2_classes_balanced/train/{}'.format(cl_label))\n",
    "    inds = np.where(tr_target_xyd_2cl_bal == cl_label)[0]\n",
    "    with open(r'./datasets/one_file/xyd_2_classes_balanced/train/{}/xyd_id_{}.npy'.format(cl_label, i), 'wb') as f:\n",
    "        np.save(f, tr_xyd_2cl_bal[inds])\n",
    "        \n",
    "for cl_label in range(test_target_xyd_2cl_bal.max() + 1): \n",
    "    if not os.path.exists(r'./datasets/one_file/xyd_2_classes_balanced/test/{}'.format(cl_label)):\n",
    "        os.mkdir(r'./datasets/one_file/xyd_2_classes_balanced/test/{}'.format(cl_label))\n",
    "    inds = np.where(test_target_xyd_2cl_bal == cl_label)[0]\n",
    "    with open(r'./datasets/one_file/xyd_2_classes_balanced/test/{}/xyd_id_{}.npy'.format(cl_label, i), 'wb') as f:\n",
    "        np.save(f, test_xyd_2cl_bal[inds])\n",
    "time.time() - t1\n",
    "\n",
    "t1 = time.time()\n",
    "for cl_label in range(tr_target_dists_2cl_bal.max() + 1): \n",
    "    if not os.path.exists(r'./datasets/one_file/dists_2_classes_balanced/train/{}'.format(cl_label)):\n",
    "        os.mkdir(r'./datasets/one_file/dists_2_classes_balanced/train/{}'.format(cl_label))\n",
    "    inds = np.where(tr_target_dists_2cl_bal == cl_label)[0]\n",
    "    with open(r'./datasets/one_file/dists_2_classes_balanced/train/{}/dists_id_{}.npy'.format(cl_label, i), 'wb') as f:\n",
    "        np.save(f, tr_dists_2cl_bal[inds])\n",
    "        \n",
    "for cl_label in range(test_target_dists_2cl_bal.max() + 1): \n",
    "    if not os.path.exists(r'./datasets/one_file/dists_2_classes_balanced/test/{}'.format(cl_label)):\n",
    "        os.mkdir(r'./datasets/one_file/dists_2_classes_balanced/test/{}'.format(cl_label))\n",
    "    inds = np.where(test_target_dists_2cl_bal == cl_label)[0]\n",
    "    with open(r'./datasets/one_file/dists_2_classes_balanced/test/{}/dists_id_{}.npy'.format(cl_label, i), 'wb') as f:\n",
    "        np.save(f, test_dists_2cl_bal[inds])\n",
    "time.time() - t1"
   ]
  }
 ],
 "metadata": {
  "kernelspec": {
   "display_name": "Python 3 (ipykernel)",
   "language": "python",
   "name": "python3"
  },
  "language_info": {
   "codemirror_mode": {
    "name": "ipython",
    "version": 3
   },
   "file_extension": ".py",
   "mimetype": "text/x-python",
   "name": "python",
   "nbconvert_exporter": "python",
   "pygments_lexer": "ipython3",
   "version": "3.12.7"
  }
 },
 "nbformat": 4,
 "nbformat_minor": 5
}
